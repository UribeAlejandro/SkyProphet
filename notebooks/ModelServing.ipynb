{
 "cells": [
  {
   "cell_type": "code",
   "execution_count": null,
   "id": "initial_id",
   "metadata": {
    "collapsed": true
   },
   "outputs": [],
   "source": [
    "import mlflow\n",
    "from challenge.constants import MLFLOW_TRACKING_URI, MLFLOW_EXPERIMENT_NAME"
   ]
  },
  {
   "cell_type": "code",
   "outputs": [],
   "source": [
    "client = mlflow.MlflowClient(MLFLOW_TRACKING_URI)"
   ],
   "metadata": {
    "collapsed": false
   },
   "id": "b1ff1881cce05712",
   "execution_count": null
  },
  {
   "cell_type": "code",
   "outputs": [],
   "source": [
    "alias = \"production\""
   ],
   "metadata": {
    "collapsed": false
   },
   "id": "e72cd1ad7cd0fb2b",
   "execution_count": null
  },
  {
   "cell_type": "code",
   "outputs": [],
   "source": [
    "champion_version = mlflow.sklearn.load_model(f\"models:/{MLFLOW_EXPERIMENT_NAME}@{alias}\")"
   ],
   "metadata": {
    "collapsed": false
   },
   "id": "28c096ac5706a9a5",
   "execution_count": null
  },
  {
   "cell_type": "code",
   "outputs": [],
   "source": [
    "champion_version"
   ],
   "metadata": {
    "collapsed": false
   },
   "id": "b929fec646b357d5",
   "execution_count": null
  },
  {
   "cell_type": "code",
   "outputs": [],
   "source": [
    "champion_version.__dict__"
   ],
   "metadata": {
    "collapsed": false
   },
   "id": "7d98a882f4834799",
   "execution_count": null
  },
  {
   "cell_type": "code",
   "outputs": [],
   "source": [
    "champion_version.feature_names_in_"
   ],
   "metadata": {
    "collapsed": false
   },
   "id": "af7ee703873623bb",
   "execution_count": null
  },
  {
   "cell_type": "code",
   "outputs": [],
   "source": [
    "object_methods = [method_name for method_name in dir(champion_version) if callable(getattr(champion_version, method_name))]"
   ],
   "metadata": {
    "collapsed": false
   },
   "id": "5a6b9e722c86d268",
   "execution_count": null
  },
  {
   "cell_type": "code",
   "outputs": [],
   "source": [
    "object_methods"
   ],
   "metadata": {
    "collapsed": false
   },
   "id": "f72b4ee65dc49d9c",
   "execution_count": null
  }
 ],
 "metadata": {
  "kernelspec": {
   "display_name": "Python 3",
   "language": "python",
   "name": "python3"
  },
  "language_info": {
   "codemirror_mode": {
    "name": "ipython",
    "version": 2
   },
   "file_extension": ".py",
   "mimetype": "text/x-python",
   "name": "python",
   "nbconvert_exporter": "python",
   "pygments_lexer": "ipython2",
   "version": "2.7.6"
  }
 },
 "nbformat": 4,
 "nbformat_minor": 5
}
