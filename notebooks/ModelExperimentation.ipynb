{
 "cells": [
  {
   "cell_type": "code",
   "execution_count": 1,
   "metadata": {
    "ExecuteTime": {
     "end_time": "2024-03-29T14:51:35.784489Z",
     "start_time": "2024-03-29T14:51:35.083160Z"
    }
   },
   "outputs": [],
   "source": [
    "import mlflow\n",
    "import pandas as pd\n",
    "import matplotlib.pyplot as plt\n",
    "import json\n",
    "import warnings\n",
    "from sklearn.model_selection import train_test_split\n",
    "from sklearn.utils import shuffle\n",
    "from sklearn.metrics import confusion_matrix, classification_report\n",
    "from mlflow.models import infer_signature\n",
    "from sklearn.dummy import DummyClassifier\n",
    "import xgboost as xgb\n",
    "from xgboost import plot_importance\n",
    "from sklearn.linear_model import LogisticRegression\n",
    "from challenge.constants import MLFLOW_EXPERIMENT_NAME, MLFLOW_TRACKING_URI, RANDOM_STATE\n",
    "from challenge.pipeline.etl import etl_pipeline, calculate_target, get_min_diff\n",
    "\n",
    "warnings.filterwarnings('ignore')"
   ]
  },
  {
   "cell_type": "code",
   "outputs": [],
   "source": [
    "mlflow.set_tracking_uri(MLFLOW_TRACKING_URI)"
   ],
   "metadata": {
    "collapsed": false,
    "ExecuteTime": {
     "end_time": "2024-03-29T14:51:35.786998Z",
     "start_time": "2024-03-29T14:51:35.785239Z"
    }
   },
   "execution_count": 2
  },
  {
   "cell_type": "code",
   "outputs": [],
   "source": [
    "try:\n",
    "    mlflow.set_experiment(MLFLOW_EXPERIMENT_NAME)\n",
    "except Exception as e:\n",
    "    print(e)\n",
    "    mlflow.create_experiment(MLFLOW_EXPERIMENT_NAME)"
   ],
   "metadata": {
    "collapsed": false,
    "ExecuteTime": {
     "end_time": "2024-03-29T14:51:35.862444Z",
     "start_time": "2024-03-29T14:51:35.788146Z"
    }
   },
   "execution_count": 3
  },
  {
   "attachments": {},
   "cell_type": "markdown",
   "metadata": {},
   "source": [
    "## 0. Load Data"
   ]
  },
  {
   "cell_type": "code",
   "execution_count": 4,
   "metadata": {
    "ExecuteTime": {
     "end_time": "2024-03-29T14:51:35.977935Z",
     "start_time": "2024-03-29T14:51:35.863008Z"
    }
   },
   "outputs": [
    {
     "name": "stdout",
     "output_type": "stream",
     "text": [
      "<class 'pandas.core.frame.DataFrame'>\n",
      "RangeIndex: 68206 entries, 0 to 68205\n",
      "Data columns (total 18 columns):\n",
      " #   Column     Non-Null Count  Dtype \n",
      "---  ------     --------------  ----- \n",
      " 0   Fecha-I    68206 non-null  object\n",
      " 1   Vlo-I      68206 non-null  object\n",
      " 2   Ori-I      68206 non-null  object\n",
      " 3   Des-I      68206 non-null  object\n",
      " 4   Emp-I      68206 non-null  object\n",
      " 5   Fecha-O    68206 non-null  object\n",
      " 6   Vlo-O      68205 non-null  object\n",
      " 7   Ori-O      68206 non-null  object\n",
      " 8   Des-O      68206 non-null  object\n",
      " 9   Emp-O      68206 non-null  object\n",
      " 10  DIA        68206 non-null  int64 \n",
      " 11  MES        68206 non-null  int64 \n",
      " 12  AÑO        68206 non-null  int64 \n",
      " 13  DIANOM     68206 non-null  object\n",
      " 14  TIPOVUELO  68206 non-null  object\n",
      " 15  OPERA      68206 non-null  object\n",
      " 16  SIGLAORI   68206 non-null  object\n",
      " 17  SIGLADES   68206 non-null  object\n",
      "dtypes: int64(3), object(15)\n",
      "memory usage: 9.4+ MB\n"
     ]
    }
   ],
   "source": [
    "data = pd.read_csv('../data/raw/data.csv')\n",
    "data.info()"
   ]
  },
  {
   "cell_type": "markdown",
   "source": [
    "## 4. Training"
   ],
   "metadata": {
    "collapsed": false
   }
  },
  {
   "attachments": {},
   "cell_type": "markdown",
   "metadata": {},
   "source": [
    "### 4.a. Data Split (Training and Validation)"
   ]
  },
  {
   "cell_type": "code",
   "outputs": [],
   "source": [
    "data['min_diff'] = data.apply(get_min_diff, axis=1)\n",
    "data['delay'] = calculate_target(data, 'delay')"
   ],
   "metadata": {
    "collapsed": false,
    "ExecuteTime": {
     "end_time": "2024-03-29T14:51:36.571768Z",
     "start_time": "2024-03-29T14:51:35.978518Z"
    }
   },
   "execution_count": 5
  },
  {
   "cell_type": "code",
   "outputs": [
    {
     "data": {
      "text/plain": "               Fecha-I Vlo-I Ori-I Des-I Emp-I              Fecha-O Vlo-O  \\\n0  2017-01-01 23:30:00   226  SCEL  KMIA   AAL  2017-01-01 23:33:00   226   \n1  2017-01-02 23:30:00   226  SCEL  KMIA   AAL  2017-01-02 23:39:00   226   \n2  2017-01-03 23:30:00   226  SCEL  KMIA   AAL  2017-01-03 23:39:00   226   \n3  2017-01-04 23:30:00   226  SCEL  KMIA   AAL  2017-01-04 23:33:00   226   \n4  2017-01-05 23:30:00   226  SCEL  KMIA   AAL  2017-01-05 23:28:00   226   \n\n  Ori-O Des-O Emp-O  DIA  MES   AÑO     DIANOM TIPOVUELO              OPERA  \\\n0  SCEL  KMIA   AAL    1    1  2017    Domingo         I  American Airlines   \n1  SCEL  KMIA   AAL    2    1  2017      Lunes         I  American Airlines   \n2  SCEL  KMIA   AAL    3    1  2017     Martes         I  American Airlines   \n3  SCEL  KMIA   AAL    4    1  2017  Miercoles         I  American Airlines   \n4  SCEL  KMIA   AAL    5    1  2017     Jueves         I  American Airlines   \n\n   SIGLAORI SIGLADES  min_diff  delay  \n0  Santiago    Miami       3.0      0  \n1  Santiago    Miami       9.0      0  \n2  Santiago    Miami       9.0      0  \n3  Santiago    Miami       3.0      0  \n4  Santiago    Miami      -2.0      0  ",
      "text/html": "<div>\n<style scoped>\n    .dataframe tbody tr th:only-of-type {\n        vertical-align: middle;\n    }\n\n    .dataframe tbody tr th {\n        vertical-align: top;\n    }\n\n    .dataframe thead th {\n        text-align: right;\n    }\n</style>\n<table border=\"1\" class=\"dataframe\">\n  <thead>\n    <tr style=\"text-align: right;\">\n      <th></th>\n      <th>Fecha-I</th>\n      <th>Vlo-I</th>\n      <th>Ori-I</th>\n      <th>Des-I</th>\n      <th>Emp-I</th>\n      <th>Fecha-O</th>\n      <th>Vlo-O</th>\n      <th>Ori-O</th>\n      <th>Des-O</th>\n      <th>Emp-O</th>\n      <th>DIA</th>\n      <th>MES</th>\n      <th>AÑO</th>\n      <th>DIANOM</th>\n      <th>TIPOVUELO</th>\n      <th>OPERA</th>\n      <th>SIGLAORI</th>\n      <th>SIGLADES</th>\n      <th>min_diff</th>\n      <th>delay</th>\n    </tr>\n  </thead>\n  <tbody>\n    <tr>\n      <th>0</th>\n      <td>2017-01-01 23:30:00</td>\n      <td>226</td>\n      <td>SCEL</td>\n      <td>KMIA</td>\n      <td>AAL</td>\n      <td>2017-01-01 23:33:00</td>\n      <td>226</td>\n      <td>SCEL</td>\n      <td>KMIA</td>\n      <td>AAL</td>\n      <td>1</td>\n      <td>1</td>\n      <td>2017</td>\n      <td>Domingo</td>\n      <td>I</td>\n      <td>American Airlines</td>\n      <td>Santiago</td>\n      <td>Miami</td>\n      <td>3.0</td>\n      <td>0</td>\n    </tr>\n    <tr>\n      <th>1</th>\n      <td>2017-01-02 23:30:00</td>\n      <td>226</td>\n      <td>SCEL</td>\n      <td>KMIA</td>\n      <td>AAL</td>\n      <td>2017-01-02 23:39:00</td>\n      <td>226</td>\n      <td>SCEL</td>\n      <td>KMIA</td>\n      <td>AAL</td>\n      <td>2</td>\n      <td>1</td>\n      <td>2017</td>\n      <td>Lunes</td>\n      <td>I</td>\n      <td>American Airlines</td>\n      <td>Santiago</td>\n      <td>Miami</td>\n      <td>9.0</td>\n      <td>0</td>\n    </tr>\n    <tr>\n      <th>2</th>\n      <td>2017-01-03 23:30:00</td>\n      <td>226</td>\n      <td>SCEL</td>\n      <td>KMIA</td>\n      <td>AAL</td>\n      <td>2017-01-03 23:39:00</td>\n      <td>226</td>\n      <td>SCEL</td>\n      <td>KMIA</td>\n      <td>AAL</td>\n      <td>3</td>\n      <td>1</td>\n      <td>2017</td>\n      <td>Martes</td>\n      <td>I</td>\n      <td>American Airlines</td>\n      <td>Santiago</td>\n      <td>Miami</td>\n      <td>9.0</td>\n      <td>0</td>\n    </tr>\n    <tr>\n      <th>3</th>\n      <td>2017-01-04 23:30:00</td>\n      <td>226</td>\n      <td>SCEL</td>\n      <td>KMIA</td>\n      <td>AAL</td>\n      <td>2017-01-04 23:33:00</td>\n      <td>226</td>\n      <td>SCEL</td>\n      <td>KMIA</td>\n      <td>AAL</td>\n      <td>4</td>\n      <td>1</td>\n      <td>2017</td>\n      <td>Miercoles</td>\n      <td>I</td>\n      <td>American Airlines</td>\n      <td>Santiago</td>\n      <td>Miami</td>\n      <td>3.0</td>\n      <td>0</td>\n    </tr>\n    <tr>\n      <th>4</th>\n      <td>2017-01-05 23:30:00</td>\n      <td>226</td>\n      <td>SCEL</td>\n      <td>KMIA</td>\n      <td>AAL</td>\n      <td>2017-01-05 23:28:00</td>\n      <td>226</td>\n      <td>SCEL</td>\n      <td>KMIA</td>\n      <td>AAL</td>\n      <td>5</td>\n      <td>1</td>\n      <td>2017</td>\n      <td>Jueves</td>\n      <td>I</td>\n      <td>American Airlines</td>\n      <td>Santiago</td>\n      <td>Miami</td>\n      <td>-2.0</td>\n      <td>0</td>\n    </tr>\n  </tbody>\n</table>\n</div>"
     },
     "execution_count": 6,
     "metadata": {},
     "output_type": "execute_result"
    }
   ],
   "source": [
    "data.head()"
   ],
   "metadata": {
    "collapsed": false,
    "ExecuteTime": {
     "end_time": "2024-03-29T14:51:36.579640Z",
     "start_time": "2024-03-29T14:51:36.572332Z"
    }
   },
   "execution_count": 6
  },
  {
   "cell_type": "code",
   "outputs": [],
   "source": [
    "cols_features = ['OPERA', 'MES', 'TIPOVUELO', 'SIGLADES', 'DIANOM', 'delay']"
   ],
   "metadata": {
    "collapsed": false,
    "ExecuteTime": {
     "end_time": "2024-03-29T14:51:36.581662Z",
     "start_time": "2024-03-29T14:51:36.580321Z"
    }
   },
   "execution_count": 7
  },
  {
   "cell_type": "code",
   "outputs": [],
   "source": [
    "training_data = shuffle(data[cols_features], random_state = RANDOM_STATE)"
   ],
   "metadata": {
    "collapsed": false,
    "ExecuteTime": {
     "end_time": "2024-03-29T14:51:36.588039Z",
     "start_time": "2024-03-29T14:51:36.582123Z"
    }
   },
   "execution_count": 8
  },
  {
   "cell_type": "code",
   "outputs": [],
   "source": [
    "unique_vals_per_feature = {}\n",
    "\n",
    "for col in cols_features:\n",
    "    unique_vals_per_feature[col] = list(data[col].unique())\n",
    "\n",
    "unique_vals_per_feature[\"MES\"] = [int(v) for v in unique_vals_per_feature[\"MES\"]]\n",
    "unique_vals_per_feature[\"delay\"] = [int(v) for v in unique_vals_per_feature[\"delay\"]] \n",
    "\n",
    "with open(\"../data/interim/unique_features.json\", 'w') as f:\n",
    "    json.dump(unique_vals_per_feature, f)"
   ],
   "metadata": {
    "collapsed": false,
    "ExecuteTime": {
     "end_time": "2024-03-29T14:51:36.596914Z",
     "start_time": "2024-03-29T14:51:36.588553Z"
    }
   },
   "execution_count": 9
  },
  {
   "cell_type": "code",
   "execution_count": 10,
   "metadata": {
    "ExecuteTime": {
     "end_time": "2024-03-29T14:51:37.233225Z",
     "start_time": "2024-03-29T14:51:36.597468Z"
    }
   },
   "outputs": [],
   "source": [
    "features, target = etl_pipeline(data, 'delay')"
   ]
  },
  {
   "cell_type": "code",
   "outputs": [
    {
     "data": {
      "text/plain": "   OPERA_Aerolineas Argentinas  OPERA_Aeromexico  OPERA_Air Canada  \\\n0                        False             False             False   \n1                        False             False             False   \n2                        False             False             False   \n3                        False             False             False   \n4                        False             False             False   \n\n   OPERA_Air France  OPERA_Alitalia  OPERA_American Airlines  OPERA_Austral  \\\n0             False           False                     True          False   \n1             False           False                     True          False   \n2             False           False                     True          False   \n3             False           False                     True          False   \n4             False           False                     True          False   \n\n   OPERA_Avianca  OPERA_British Airways  OPERA_Copa Air  ...  SIGLADES_Ushuia  \\\n0          False                  False           False  ...            False   \n1          False                  False           False  ...            False   \n2          False                  False           False  ...            False   \n3          False                  False           False  ...            False   \n4          False                  False           False  ...            False   \n\n   SIGLADES_Valdivia  SIGLADES_Washington  DIANOM_Domingo  DIANOM_Jueves  \\\n0              False                False            True          False   \n1              False                False           False          False   \n2              False                False           False          False   \n3              False                False           False          False   \n4              False                False           False           True   \n\n   DIANOM_Lunes  DIANOM_Martes  DIANOM_Miercoles  DIANOM_Sabado  \\\n0         False          False             False          False   \n1          True          False             False          False   \n2         False           True             False          False   \n3         False          False              True          False   \n4         False          False             False          False   \n\n   DIANOM_Viernes  \n0           False  \n1           False  \n2           False  \n3           False  \n4           False  \n\n[5 rows x 106 columns]",
      "text/html": "<div>\n<style scoped>\n    .dataframe tbody tr th:only-of-type {\n        vertical-align: middle;\n    }\n\n    .dataframe tbody tr th {\n        vertical-align: top;\n    }\n\n    .dataframe thead th {\n        text-align: right;\n    }\n</style>\n<table border=\"1\" class=\"dataframe\">\n  <thead>\n    <tr style=\"text-align: right;\">\n      <th></th>\n      <th>OPERA_Aerolineas Argentinas</th>\n      <th>OPERA_Aeromexico</th>\n      <th>OPERA_Air Canada</th>\n      <th>OPERA_Air France</th>\n      <th>OPERA_Alitalia</th>\n      <th>OPERA_American Airlines</th>\n      <th>OPERA_Austral</th>\n      <th>OPERA_Avianca</th>\n      <th>OPERA_British Airways</th>\n      <th>OPERA_Copa Air</th>\n      <th>...</th>\n      <th>SIGLADES_Ushuia</th>\n      <th>SIGLADES_Valdivia</th>\n      <th>SIGLADES_Washington</th>\n      <th>DIANOM_Domingo</th>\n      <th>DIANOM_Jueves</th>\n      <th>DIANOM_Lunes</th>\n      <th>DIANOM_Martes</th>\n      <th>DIANOM_Miercoles</th>\n      <th>DIANOM_Sabado</th>\n      <th>DIANOM_Viernes</th>\n    </tr>\n  </thead>\n  <tbody>\n    <tr>\n      <th>0</th>\n      <td>False</td>\n      <td>False</td>\n      <td>False</td>\n      <td>False</td>\n      <td>False</td>\n      <td>True</td>\n      <td>False</td>\n      <td>False</td>\n      <td>False</td>\n      <td>False</td>\n      <td>...</td>\n      <td>False</td>\n      <td>False</td>\n      <td>False</td>\n      <td>True</td>\n      <td>False</td>\n      <td>False</td>\n      <td>False</td>\n      <td>False</td>\n      <td>False</td>\n      <td>False</td>\n    </tr>\n    <tr>\n      <th>1</th>\n      <td>False</td>\n      <td>False</td>\n      <td>False</td>\n      <td>False</td>\n      <td>False</td>\n      <td>True</td>\n      <td>False</td>\n      <td>False</td>\n      <td>False</td>\n      <td>False</td>\n      <td>...</td>\n      <td>False</td>\n      <td>False</td>\n      <td>False</td>\n      <td>False</td>\n      <td>False</td>\n      <td>True</td>\n      <td>False</td>\n      <td>False</td>\n      <td>False</td>\n      <td>False</td>\n    </tr>\n    <tr>\n      <th>2</th>\n      <td>False</td>\n      <td>False</td>\n      <td>False</td>\n      <td>False</td>\n      <td>False</td>\n      <td>True</td>\n      <td>False</td>\n      <td>False</td>\n      <td>False</td>\n      <td>False</td>\n      <td>...</td>\n      <td>False</td>\n      <td>False</td>\n      <td>False</td>\n      <td>False</td>\n      <td>False</td>\n      <td>False</td>\n      <td>True</td>\n      <td>False</td>\n      <td>False</td>\n      <td>False</td>\n    </tr>\n    <tr>\n      <th>3</th>\n      <td>False</td>\n      <td>False</td>\n      <td>False</td>\n      <td>False</td>\n      <td>False</td>\n      <td>True</td>\n      <td>False</td>\n      <td>False</td>\n      <td>False</td>\n      <td>False</td>\n      <td>...</td>\n      <td>False</td>\n      <td>False</td>\n      <td>False</td>\n      <td>False</td>\n      <td>False</td>\n      <td>False</td>\n      <td>False</td>\n      <td>True</td>\n      <td>False</td>\n      <td>False</td>\n    </tr>\n    <tr>\n      <th>4</th>\n      <td>False</td>\n      <td>False</td>\n      <td>False</td>\n      <td>False</td>\n      <td>False</td>\n      <td>True</td>\n      <td>False</td>\n      <td>False</td>\n      <td>False</td>\n      <td>False</td>\n      <td>...</td>\n      <td>False</td>\n      <td>False</td>\n      <td>False</td>\n      <td>False</td>\n      <td>True</td>\n      <td>False</td>\n      <td>False</td>\n      <td>False</td>\n      <td>False</td>\n      <td>False</td>\n    </tr>\n  </tbody>\n</table>\n<p>5 rows × 106 columns</p>\n</div>"
     },
     "execution_count": 11,
     "metadata": {},
     "output_type": "execute_result"
    }
   ],
   "source": [
    "features.head()"
   ],
   "metadata": {
    "collapsed": false,
    "ExecuteTime": {
     "end_time": "2024-03-29T14:51:37.240678Z",
     "start_time": "2024-03-29T14:51:37.233995Z"
    }
   },
   "execution_count": 11
  },
  {
   "cell_type": "code",
   "outputs": [
    {
     "data": {
      "text/plain": "   delay\n0      0\n1      0\n2      0\n3      0\n4      0",
      "text/html": "<div>\n<style scoped>\n    .dataframe tbody tr th:only-of-type {\n        vertical-align: middle;\n    }\n\n    .dataframe tbody tr th {\n        vertical-align: top;\n    }\n\n    .dataframe thead th {\n        text-align: right;\n    }\n</style>\n<table border=\"1\" class=\"dataframe\">\n  <thead>\n    <tr style=\"text-align: right;\">\n      <th></th>\n      <th>delay</th>\n    </tr>\n  </thead>\n  <tbody>\n    <tr>\n      <th>0</th>\n      <td>0</td>\n    </tr>\n    <tr>\n      <th>1</th>\n      <td>0</td>\n    </tr>\n    <tr>\n      <th>2</th>\n      <td>0</td>\n    </tr>\n    <tr>\n      <th>3</th>\n      <td>0</td>\n    </tr>\n    <tr>\n      <th>4</th>\n      <td>0</td>\n    </tr>\n  </tbody>\n</table>\n</div>"
     },
     "execution_count": 12,
     "metadata": {},
     "output_type": "execute_result"
    }
   ],
   "source": [
    "target.head()"
   ],
   "metadata": {
    "collapsed": false,
    "ExecuteTime": {
     "end_time": "2024-03-29T14:51:37.245791Z",
     "start_time": "2024-03-29T14:51:37.243164Z"
    }
   },
   "execution_count": 12
  },
  {
   "cell_type": "code",
   "execution_count": 13,
   "metadata": {
    "ExecuteTime": {
     "end_time": "2024-03-29T14:51:37.351112Z",
     "start_time": "2024-03-29T14:51:37.246409Z"
    }
   },
   "outputs": [],
   "source": [
    "x_train, x_test, y_train, y_test = train_test_split(\n",
    "    features,\n",
    "    target, \n",
    "    test_size = 0.33,\n",
    "    random_state = RANDOM_STATE,\n",
    "    stratify = target\n",
    ")"
   ]
  },
  {
   "cell_type": "code",
   "execution_count": 14,
   "metadata": {
    "ExecuteTime": {
     "end_time": "2024-03-29T14:51:37.353427Z",
     "start_time": "2024-03-29T14:51:37.351823Z"
    }
   },
   "outputs": [
    {
     "name": "stdout",
     "output_type": "stream",
     "text": [
      "train shape: (45698, 106) | test shape: (22508, 106)\n"
     ]
    }
   ],
   "source": [
    "print(f\"train shape: {x_train.shape} | test shape: {x_test.shape}\")"
   ]
  },
  {
   "cell_type": "code",
   "execution_count": 15,
   "metadata": {
    "ExecuteTime": {
     "end_time": "2024-03-29T14:51:37.356832Z",
     "start_time": "2024-03-29T14:51:37.353957Z"
    }
   },
   "outputs": [
    {
     "data": {
      "text/plain": "delay\n0    81.506849\n1    18.493151\nName: proportion, dtype: float64"
     },
     "execution_count": 15,
     "metadata": {},
     "output_type": "execute_result"
    }
   ],
   "source": [
    "y_train['delay'].value_counts('%')*100"
   ]
  },
  {
   "cell_type": "code",
   "execution_count": 16,
   "metadata": {
    "ExecuteTime": {
     "end_time": "2024-03-29T14:51:37.359625Z",
     "start_time": "2024-03-29T14:51:37.357347Z"
    }
   },
   "outputs": [
    {
     "data": {
      "text/plain": "delay\n0    81.504354\n1    18.495646\nName: proportion, dtype: float64"
     },
     "execution_count": 16,
     "metadata": {},
     "output_type": "execute_result"
    }
   ],
   "source": [
    "y_test['delay'].value_counts('%')*100"
   ]
  },
  {
   "cell_type": "code",
   "outputs": [],
   "source": [
    "with open(\"../data/interim/feature_columns.json\", 'w') as f:\n",
    "    json.dump({\"feature_columns\": list(x_train.columns)}, f)"
   ],
   "metadata": {
    "collapsed": false,
    "ExecuteTime": {
     "end_time": "2024-03-29T14:51:37.361730Z",
     "start_time": "2024-03-29T14:51:37.360191Z"
    }
   },
   "execution_count": 17
  },
  {
   "attachments": {},
   "cell_type": "markdown",
   "metadata": {},
   "source": [
    "### 4.b. Model Selection"
   ]
  },
  {
   "cell_type": "code",
   "outputs": [],
   "source": [
    "signature = infer_signature(x_test, y_test)"
   ],
   "metadata": {
    "collapsed": false,
    "ExecuteTime": {
     "end_time": "2024-03-29T14:51:37.588279Z",
     "start_time": "2024-03-29T14:51:37.362291Z"
    }
   },
   "execution_count": 18
  },
  {
   "cell_type": "code",
   "outputs": [
    {
     "data": {
      "text/plain": "       OPERA_Aerolineas Argentinas  OPERA_Aeromexico  OPERA_Air Canada  \\\n35760                        False             False             False   \n16344                        False             False             False   \n40013                        False             False             False   \n26655                        False             False             False   \n47723                        False             False             False   \n\n       OPERA_Air France  OPERA_Alitalia  OPERA_American Airlines  \\\n35760             False           False                    False   \n16344             False           False                    False   \n40013             False           False                    False   \n26655             False           False                    False   \n47723             False           False                    False   \n\n       OPERA_Austral  OPERA_Avianca  OPERA_British Airways  OPERA_Copa Air  \\\n35760          False          False                  False           False   \n16344          False          False                  False           False   \n40013          False          False                  False           False   \n26655          False          False                  False           False   \n47723          False          False                  False           False   \n\n       ...  SIGLADES_Valdivia  SIGLADES_Washington  DIANOM_Domingo  \\\n35760  ...              False                False           False   \n16344  ...              False                False           False   \n40013  ...              False                False           False   \n26655  ...              False                False           False   \n47723  ...              False                False           False   \n\n       DIANOM_Jueves  DIANOM_Lunes  DIANOM_Martes  DIANOM_Miercoles  \\\n35760          False         False          False             False   \n16344          False          True          False             False   \n40013           True         False          False             False   \n26655          False          True          False             False   \n47723          False         False           True             False   \n\n       DIANOM_Sabado  DIANOM_Viernes  label  \n35760           True           False      0  \n16344          False           False      0  \n40013          False           False      0  \n26655          False           False      0  \n47723          False           False      0  \n\n[5 rows x 107 columns]",
      "text/html": "<div>\n<style scoped>\n    .dataframe tbody tr th:only-of-type {\n        vertical-align: middle;\n    }\n\n    .dataframe tbody tr th {\n        vertical-align: top;\n    }\n\n    .dataframe thead th {\n        text-align: right;\n    }\n</style>\n<table border=\"1\" class=\"dataframe\">\n  <thead>\n    <tr style=\"text-align: right;\">\n      <th></th>\n      <th>OPERA_Aerolineas Argentinas</th>\n      <th>OPERA_Aeromexico</th>\n      <th>OPERA_Air Canada</th>\n      <th>OPERA_Air France</th>\n      <th>OPERA_Alitalia</th>\n      <th>OPERA_American Airlines</th>\n      <th>OPERA_Austral</th>\n      <th>OPERA_Avianca</th>\n      <th>OPERA_British Airways</th>\n      <th>OPERA_Copa Air</th>\n      <th>...</th>\n      <th>SIGLADES_Valdivia</th>\n      <th>SIGLADES_Washington</th>\n      <th>DIANOM_Domingo</th>\n      <th>DIANOM_Jueves</th>\n      <th>DIANOM_Lunes</th>\n      <th>DIANOM_Martes</th>\n      <th>DIANOM_Miercoles</th>\n      <th>DIANOM_Sabado</th>\n      <th>DIANOM_Viernes</th>\n      <th>label</th>\n    </tr>\n  </thead>\n  <tbody>\n    <tr>\n      <th>35760</th>\n      <td>False</td>\n      <td>False</td>\n      <td>False</td>\n      <td>False</td>\n      <td>False</td>\n      <td>False</td>\n      <td>False</td>\n      <td>False</td>\n      <td>False</td>\n      <td>False</td>\n      <td>...</td>\n      <td>False</td>\n      <td>False</td>\n      <td>False</td>\n      <td>False</td>\n      <td>False</td>\n      <td>False</td>\n      <td>False</td>\n      <td>True</td>\n      <td>False</td>\n      <td>0</td>\n    </tr>\n    <tr>\n      <th>16344</th>\n      <td>False</td>\n      <td>False</td>\n      <td>False</td>\n      <td>False</td>\n      <td>False</td>\n      <td>False</td>\n      <td>False</td>\n      <td>False</td>\n      <td>False</td>\n      <td>False</td>\n      <td>...</td>\n      <td>False</td>\n      <td>False</td>\n      <td>False</td>\n      <td>False</td>\n      <td>True</td>\n      <td>False</td>\n      <td>False</td>\n      <td>False</td>\n      <td>False</td>\n      <td>0</td>\n    </tr>\n    <tr>\n      <th>40013</th>\n      <td>False</td>\n      <td>False</td>\n      <td>False</td>\n      <td>False</td>\n      <td>False</td>\n      <td>False</td>\n      <td>False</td>\n      <td>False</td>\n      <td>False</td>\n      <td>False</td>\n      <td>...</td>\n      <td>False</td>\n      <td>False</td>\n      <td>False</td>\n      <td>True</td>\n      <td>False</td>\n      <td>False</td>\n      <td>False</td>\n      <td>False</td>\n      <td>False</td>\n      <td>0</td>\n    </tr>\n    <tr>\n      <th>26655</th>\n      <td>False</td>\n      <td>False</td>\n      <td>False</td>\n      <td>False</td>\n      <td>False</td>\n      <td>False</td>\n      <td>False</td>\n      <td>False</td>\n      <td>False</td>\n      <td>False</td>\n      <td>...</td>\n      <td>False</td>\n      <td>False</td>\n      <td>False</td>\n      <td>False</td>\n      <td>True</td>\n      <td>False</td>\n      <td>False</td>\n      <td>False</td>\n      <td>False</td>\n      <td>0</td>\n    </tr>\n    <tr>\n      <th>47723</th>\n      <td>False</td>\n      <td>False</td>\n      <td>False</td>\n      <td>False</td>\n      <td>False</td>\n      <td>False</td>\n      <td>False</td>\n      <td>False</td>\n      <td>False</td>\n      <td>False</td>\n      <td>...</td>\n      <td>False</td>\n      <td>False</td>\n      <td>False</td>\n      <td>False</td>\n      <td>False</td>\n      <td>True</td>\n      <td>False</td>\n      <td>False</td>\n      <td>False</td>\n      <td>0</td>\n    </tr>\n  </tbody>\n</table>\n<p>5 rows × 107 columns</p>\n</div>"
     },
     "execution_count": 19,
     "metadata": {},
     "output_type": "execute_result"
    }
   ],
   "source": [
    "eval_data = x_test.copy()\n",
    "eval_data[\"label\"] = y_test.copy()\n",
    "eval_data.head()"
   ],
   "metadata": {
    "collapsed": false,
    "ExecuteTime": {
     "end_time": "2024-03-29T14:51:37.595289Z",
     "start_time": "2024-03-29T14:51:37.588990Z"
    }
   },
   "execution_count": 19
  },
  {
   "cell_type": "code",
   "outputs": [
    {
     "data": {
      "text/plain": "       OPERA_Aerolineas Argentinas  OPERA_Aeromexico  OPERA_Air Canada  \\\n53264                        False             False             False   \n64357                        False             False             False   \n29154                        False             False             False   \n8832                         False             False             False   \n1749                         False             False             False   \n\n       OPERA_Air France  OPERA_Alitalia  OPERA_American Airlines  \\\n53264             False           False                    False   \n64357             False           False                    False   \n29154             False           False                    False   \n8832              False           False                    False   \n1749              False           False                    False   \n\n       OPERA_Austral  OPERA_Avianca  OPERA_British Airways  OPERA_Copa Air  \\\n53264          False          False                  False           False   \n64357          False          False                  False           False   \n29154          False          False                  False           False   \n8832           False          False                  False           False   \n1749           False          False                  False           False   \n\n       ...  SIGLADES_Valdivia  SIGLADES_Washington  DIANOM_Domingo  \\\n53264  ...              False                False           False   \n64357  ...              False                False            True   \n29154  ...              False                False            True   \n8832   ...              False                False           False   \n1749   ...              False                False           False   \n\n       DIANOM_Jueves  DIANOM_Lunes  DIANOM_Martes  DIANOM_Miercoles  \\\n53264          False         False          False             False   \n64357          False         False          False             False   \n29154          False         False          False             False   \n8832           False         False          False             False   \n1749           False         False          False             False   \n\n       DIANOM_Sabado  DIANOM_Viernes  label  \n53264           True           False      0  \n64357          False           False      1  \n29154          False           False      0  \n8832            True           False      0  \n1749           False            True      0  \n\n[5 rows x 107 columns]",
      "text/html": "<div>\n<style scoped>\n    .dataframe tbody tr th:only-of-type {\n        vertical-align: middle;\n    }\n\n    .dataframe tbody tr th {\n        vertical-align: top;\n    }\n\n    .dataframe thead th {\n        text-align: right;\n    }\n</style>\n<table border=\"1\" class=\"dataframe\">\n  <thead>\n    <tr style=\"text-align: right;\">\n      <th></th>\n      <th>OPERA_Aerolineas Argentinas</th>\n      <th>OPERA_Aeromexico</th>\n      <th>OPERA_Air Canada</th>\n      <th>OPERA_Air France</th>\n      <th>OPERA_Alitalia</th>\n      <th>OPERA_American Airlines</th>\n      <th>OPERA_Austral</th>\n      <th>OPERA_Avianca</th>\n      <th>OPERA_British Airways</th>\n      <th>OPERA_Copa Air</th>\n      <th>...</th>\n      <th>SIGLADES_Valdivia</th>\n      <th>SIGLADES_Washington</th>\n      <th>DIANOM_Domingo</th>\n      <th>DIANOM_Jueves</th>\n      <th>DIANOM_Lunes</th>\n      <th>DIANOM_Martes</th>\n      <th>DIANOM_Miercoles</th>\n      <th>DIANOM_Sabado</th>\n      <th>DIANOM_Viernes</th>\n      <th>label</th>\n    </tr>\n  </thead>\n  <tbody>\n    <tr>\n      <th>53264</th>\n      <td>False</td>\n      <td>False</td>\n      <td>False</td>\n      <td>False</td>\n      <td>False</td>\n      <td>False</td>\n      <td>False</td>\n      <td>False</td>\n      <td>False</td>\n      <td>False</td>\n      <td>...</td>\n      <td>False</td>\n      <td>False</td>\n      <td>False</td>\n      <td>False</td>\n      <td>False</td>\n      <td>False</td>\n      <td>False</td>\n      <td>True</td>\n      <td>False</td>\n      <td>0</td>\n    </tr>\n    <tr>\n      <th>64357</th>\n      <td>False</td>\n      <td>False</td>\n      <td>False</td>\n      <td>False</td>\n      <td>False</td>\n      <td>False</td>\n      <td>False</td>\n      <td>False</td>\n      <td>False</td>\n      <td>False</td>\n      <td>...</td>\n      <td>False</td>\n      <td>False</td>\n      <td>True</td>\n      <td>False</td>\n      <td>False</td>\n      <td>False</td>\n      <td>False</td>\n      <td>False</td>\n      <td>False</td>\n      <td>1</td>\n    </tr>\n    <tr>\n      <th>29154</th>\n      <td>False</td>\n      <td>False</td>\n      <td>False</td>\n      <td>False</td>\n      <td>False</td>\n      <td>False</td>\n      <td>False</td>\n      <td>False</td>\n      <td>False</td>\n      <td>False</td>\n      <td>...</td>\n      <td>False</td>\n      <td>False</td>\n      <td>True</td>\n      <td>False</td>\n      <td>False</td>\n      <td>False</td>\n      <td>False</td>\n      <td>False</td>\n      <td>False</td>\n      <td>0</td>\n    </tr>\n    <tr>\n      <th>8832</th>\n      <td>False</td>\n      <td>False</td>\n      <td>False</td>\n      <td>False</td>\n      <td>False</td>\n      <td>False</td>\n      <td>False</td>\n      <td>False</td>\n      <td>False</td>\n      <td>False</td>\n      <td>...</td>\n      <td>False</td>\n      <td>False</td>\n      <td>False</td>\n      <td>False</td>\n      <td>False</td>\n      <td>False</td>\n      <td>False</td>\n      <td>True</td>\n      <td>False</td>\n      <td>0</td>\n    </tr>\n    <tr>\n      <th>1749</th>\n      <td>False</td>\n      <td>False</td>\n      <td>False</td>\n      <td>False</td>\n      <td>False</td>\n      <td>False</td>\n      <td>False</td>\n      <td>False</td>\n      <td>False</td>\n      <td>False</td>\n      <td>...</td>\n      <td>False</td>\n      <td>False</td>\n      <td>False</td>\n      <td>False</td>\n      <td>False</td>\n      <td>False</td>\n      <td>False</td>\n      <td>False</td>\n      <td>True</td>\n      <td>0</td>\n    </tr>\n  </tbody>\n</table>\n<p>5 rows × 107 columns</p>\n</div>"
     },
     "execution_count": 20,
     "metadata": {},
     "output_type": "execute_result"
    }
   ],
   "source": [
    "train_data = x_train.copy()\n",
    "train_data[\"label\"] = y_train.copy()\n",
    "train_data.head()"
   ],
   "metadata": {
    "collapsed": false,
    "ExecuteTime": {
     "end_time": "2024-03-29T14:51:37.602689Z",
     "start_time": "2024-03-29T14:51:37.596001Z"
    }
   },
   "execution_count": 20
  },
  {
   "cell_type": "code",
   "outputs": [],
   "source": [
    "eval_config = {\n",
    "    \"targets\": \"label\",\n",
    "    \"model_type\":\"classifier\",\n",
    "    \"evaluator_config\": {\n",
    "        'explainability_algorithm': 'permutation',\n",
    "        'metric_prefix': 'evaluation_'\n",
    "    }\n",
    "}"
   ],
   "metadata": {
    "collapsed": false,
    "ExecuteTime": {
     "end_time": "2024-03-29T14:51:37.604827Z",
     "start_time": "2024-03-29T14:51:37.603217Z"
    }
   },
   "execution_count": 21
  },
  {
   "cell_type": "code",
   "outputs": [],
   "source": [
    "train_config = {\n",
    "    \"targets\": \"label\",\n",
    "    \"model_type\":\"classifier\",\n",
    "    \"evaluator_config\": {\n",
    "        'explainability_algorithm': 'permutation',\n",
    "        'metric_prefix': 'training_'\n",
    "    }\n",
    "}"
   ],
   "metadata": {
    "collapsed": false,
    "ExecuteTime": {
     "end_time": "2024-03-29T14:51:37.606763Z",
     "start_time": "2024-03-29T14:51:37.605386Z"
    }
   },
   "execution_count": 22
  },
  {
   "cell_type": "markdown",
   "source": [
    "#### 4.b.0 Baseline Model"
   ],
   "metadata": {
    "collapsed": false
   }
  },
  {
   "cell_type": "code",
   "outputs": [],
   "source": [
    "desc = \"Baseline Model\"\n",
    "run_name = \"Baseline Model\"\n",
    "with mlflow.start_run(description=desc, run_name=run_name) as _:\n",
    "    baseline_model = DummyClassifier(strategy=\"uniform\", random_state=RANDOM_STATE).fit(x_train, y_train)\n",
    "    \n",
    "    baseline_model_uri = mlflow.sklearn.log_model(\n",
    "        baseline_model, \"model\", signature=signature\n",
    "    ).model_uri\n",
    "\n",
    "mlflow.end_run()"
   ],
   "metadata": {
    "collapsed": false,
    "ExecuteTime": {
     "end_time": "2024-03-29T14:51:39.280804Z",
     "start_time": "2024-03-29T14:51:37.607322Z"
    }
   },
   "execution_count": 23
  },
  {
   "attachments": {},
   "cell_type": "markdown",
   "metadata": {},
   "source": [
    "#### 4.b.i. XGBoost"
   ]
  },
  {
   "cell_type": "code",
   "execution_count": 24,
   "metadata": {
    "ExecuteTime": {
     "end_time": "2024-03-29T14:51:44.354661Z",
     "start_time": "2024-03-29T14:51:39.281689Z"
    }
   },
   "outputs": [
    {
     "name": "stderr",
     "output_type": "stream",
     "text": [
      "2024/03/29 11:51:41 INFO mlflow.models.evaluation.base: Evaluating the model with the default evaluator.\n",
      "2024/03/29 11:51:41 INFO mlflow.models.evaluation.default_evaluator: Evaluating candidate model:\n",
      "2024/03/29 11:51:41 INFO mlflow.models.evaluation.default_evaluator: Computing model predictions.\n",
      "2024/03/29 11:51:41 INFO mlflow.models.evaluation.default_evaluator: The evaluation dataset is inferred as binary dataset, positive label is 1, negative label is 0.\n",
      "2024/03/29 11:51:41 INFO mlflow.models.evaluation.default_evaluator: Testing metrics on first row...\n",
      "2024/03/29 11:51:42 WARNING mlflow.models.evaluation.default_evaluator: Skip logging model explainability insights because the shap explainer permutation requires all feature values to be numeric, and each feature column must only contain scalar values.\n",
      "2024/03/29 11:51:42 INFO mlflow.models.evaluation.default_evaluator: Evaluating baseline model:\n",
      "2024/03/29 11:51:42 INFO mlflow.models.evaluation.default_evaluator: Computing model predictions.\n",
      "2024/03/29 11:51:42 INFO mlflow.models.evaluation.default_evaluator: The evaluation dataset is inferred as binary dataset, positive label is 1, negative label is 0.\n",
      "2024/03/29 11:51:42 INFO mlflow.models.evaluation.default_evaluator: Testing metrics on first row...\n",
      "2024/03/29 11:51:43 INFO mlflow.models.evaluation.base: Evaluating the model with the default evaluator.\n",
      "2024/03/29 11:51:43 INFO mlflow.models.evaluation.default_evaluator: Evaluating candidate model:\n",
      "2024/03/29 11:51:43 INFO mlflow.models.evaluation.default_evaluator: Computing model predictions.\n",
      "2024/03/29 11:51:43 INFO mlflow.models.evaluation.default_evaluator: The evaluation dataset is inferred as binary dataset, positive label is 1, negative label is 0.\n",
      "2024/03/29 11:51:43 INFO mlflow.models.evaluation.default_evaluator: Testing metrics on first row...\n",
      "2024/03/29 11:51:44 WARNING mlflow.models.evaluation.default_evaluator: Skip logging model explainability insights because the shap explainer permutation requires all feature values to be numeric, and each feature column must only contain scalar values.\n",
      "2024/03/29 11:51:44 INFO mlflow.models.evaluation.default_evaluator: Evaluating baseline model:\n",
      "2024/03/29 11:51:44 INFO mlflow.models.evaluation.default_evaluator: Computing model predictions.\n",
      "2024/03/29 11:51:44 INFO mlflow.models.evaluation.default_evaluator: The evaluation dataset is inferred as binary dataset, positive label is 1, negative label is 0.\n",
      "2024/03/29 11:51:44 INFO mlflow.models.evaluation.default_evaluator: Testing metrics on first row...\n"
     ]
    },
    {
     "data": {
      "text/plain": "<Figure size 1050x700 with 0 Axes>"
     },
     "metadata": {},
     "output_type": "display_data"
    }
   ],
   "source": [
    "desc = \"XGBoost\"\n",
    "with mlflow.start_run(description=desc) as _:\n",
    "    xgb_model = xgb.XGBClassifier(random_state=RANDOM_STATE, learning_rate=0.01)\n",
    "    xgb_model.fit(x_train, y_train)\n",
    "    \n",
    "    candidate_model_uri = mlflow.sklearn.log_model(\n",
    "        xgb_model, \"candidate_model\", signature=signature\n",
    "    ).model_uri\n",
    "    \n",
    "    mlflow.evaluate(\n",
    "        candidate_model_uri,\n",
    "        eval_data,\n",
    "        baseline_model=baseline_model_uri,\n",
    "        **eval_config\n",
    "    )\n",
    "    mlflow.evaluate(\n",
    "        candidate_model_uri,\n",
    "        train_data,\n",
    "        baseline_model=baseline_model_uri,\n",
    "        **train_config\n",
    "    )\n",
    "mlflow.end_run()"
   ]
  },
  {
   "cell_type": "code",
   "execution_count": 25,
   "metadata": {
    "ExecuteTime": {
     "end_time": "2024-03-29T14:51:44.387602Z",
     "start_time": "2024-03-29T14:51:44.355259Z"
    }
   },
   "outputs": [],
   "source": [
    "xgboost_y_preds = xgb_model.predict(x_test)\n",
    "xgboost_y_preds = [1 if y_pred > 0.5 else 0 for y_pred in xgboost_y_preds]"
   ]
  },
  {
   "cell_type": "code",
   "execution_count": 26,
   "metadata": {
    "ExecuteTime": {
     "end_time": "2024-03-29T14:51:44.398456Z",
     "start_time": "2024-03-29T14:51:44.388519Z"
    }
   },
   "outputs": [
    {
     "data": {
      "text/plain": "array([[18338,     7],\n       [ 4149,    14]])"
     },
     "execution_count": 26,
     "metadata": {},
     "output_type": "execute_result"
    }
   ],
   "source": [
    "confusion_matrix(y_test, xgboost_y_preds)"
   ]
  },
  {
   "cell_type": "code",
   "execution_count": 27,
   "metadata": {
    "ExecuteTime": {
     "end_time": "2024-03-29T14:51:44.422993Z",
     "start_time": "2024-03-29T14:51:44.399921Z"
    }
   },
   "outputs": [
    {
     "data": {
      "text/plain": "                      0            1  accuracy     macro avg  weighted avg\nprecision      0.815493     0.666667  0.815355      0.741080      0.787967\nrecall         0.999618     0.003363  0.815355      0.501491      0.815355\nf1-score       0.898217     0.006692  0.815355      0.452455      0.733324\nsupport    18345.000000  4163.000000  0.815355  22508.000000  22508.000000",
      "text/html": "<div>\n<style scoped>\n    .dataframe tbody tr th:only-of-type {\n        vertical-align: middle;\n    }\n\n    .dataframe tbody tr th {\n        vertical-align: top;\n    }\n\n    .dataframe thead th {\n        text-align: right;\n    }\n</style>\n<table border=\"1\" class=\"dataframe\">\n  <thead>\n    <tr style=\"text-align: right;\">\n      <th></th>\n      <th>0</th>\n      <th>1</th>\n      <th>accuracy</th>\n      <th>macro avg</th>\n      <th>weighted avg</th>\n    </tr>\n  </thead>\n  <tbody>\n    <tr>\n      <th>precision</th>\n      <td>0.815493</td>\n      <td>0.666667</td>\n      <td>0.815355</td>\n      <td>0.741080</td>\n      <td>0.787967</td>\n    </tr>\n    <tr>\n      <th>recall</th>\n      <td>0.999618</td>\n      <td>0.003363</td>\n      <td>0.815355</td>\n      <td>0.501491</td>\n      <td>0.815355</td>\n    </tr>\n    <tr>\n      <th>f1-score</th>\n      <td>0.898217</td>\n      <td>0.006692</td>\n      <td>0.815355</td>\n      <td>0.452455</td>\n      <td>0.733324</td>\n    </tr>\n    <tr>\n      <th>support</th>\n      <td>18345.000000</td>\n      <td>4163.000000</td>\n      <td>0.815355</td>\n      <td>22508.000000</td>\n      <td>22508.000000</td>\n    </tr>\n  </tbody>\n</table>\n</div>"
     },
     "execution_count": 27,
     "metadata": {},
     "output_type": "execute_result"
    }
   ],
   "source": [
    "pd.DataFrame(classification_report(y_test, xgboost_y_preds, output_dict=True))"
   ]
  },
  {
   "cell_type": "markdown",
   "metadata": {},
   "source": [
    "#### 4.b.ii. Logistic Regression"
   ]
  },
  {
   "cell_type": "code",
   "outputs": [
    {
     "name": "stderr",
     "output_type": "stream",
     "text": [
      "2024/03/29 11:51:47 INFO mlflow.models.evaluation.base: Evaluating the model with the default evaluator.\n",
      "2024/03/29 11:51:47 INFO mlflow.models.evaluation.default_evaluator: Evaluating candidate model:\n",
      "2024/03/29 11:51:47 INFO mlflow.models.evaluation.default_evaluator: Computing model predictions.\n",
      "2024/03/29 11:51:47 INFO mlflow.models.evaluation.default_evaluator: The evaluation dataset is inferred as binary dataset, positive label is 1, negative label is 0.\n",
      "2024/03/29 11:51:47 INFO mlflow.models.evaluation.default_evaluator: Testing metrics on first row...\n",
      "2024/03/29 11:51:48 WARNING mlflow.models.evaluation.default_evaluator: Skip logging model explainability insights because the shap explainer permutation requires all feature values to be numeric, and each feature column must only contain scalar values.\n",
      "2024/03/29 11:51:48 INFO mlflow.models.evaluation.default_evaluator: Evaluating baseline model:\n",
      "2024/03/29 11:51:48 INFO mlflow.models.evaluation.default_evaluator: Computing model predictions.\n",
      "2024/03/29 11:51:48 INFO mlflow.models.evaluation.default_evaluator: The evaluation dataset is inferred as binary dataset, positive label is 1, negative label is 0.\n",
      "2024/03/29 11:51:48 INFO mlflow.models.evaluation.default_evaluator: Testing metrics on first row...\n",
      "2024/03/29 11:51:49 INFO mlflow.models.evaluation.base: Evaluating the model with the default evaluator.\n",
      "2024/03/29 11:51:49 INFO mlflow.models.evaluation.default_evaluator: Evaluating candidate model:\n",
      "2024/03/29 11:51:49 INFO mlflow.models.evaluation.default_evaluator: Computing model predictions.\n",
      "2024/03/29 11:51:49 INFO mlflow.models.evaluation.default_evaluator: The evaluation dataset is inferred as binary dataset, positive label is 1, negative label is 0.\n",
      "2024/03/29 11:51:49 INFO mlflow.models.evaluation.default_evaluator: Testing metrics on first row...\n",
      "2024/03/29 11:51:50 WARNING mlflow.models.evaluation.default_evaluator: Skip logging model explainability insights because the shap explainer permutation requires all feature values to be numeric, and each feature column must only contain scalar values.\n",
      "2024/03/29 11:51:50 INFO mlflow.models.evaluation.default_evaluator: Evaluating baseline model:\n",
      "2024/03/29 11:51:50 INFO mlflow.models.evaluation.default_evaluator: Computing model predictions.\n",
      "2024/03/29 11:51:50 INFO mlflow.models.evaluation.default_evaluator: The evaluation dataset is inferred as binary dataset, positive label is 1, negative label is 0.\n",
      "2024/03/29 11:51:50 INFO mlflow.models.evaluation.default_evaluator: Testing metrics on first row...\n"
     ]
    }
   ],
   "source": [
    "desc = \"Logistic Regression\"\n",
    "with mlflow.start_run(description=desc) as _:\n",
    "    reg_model = LogisticRegression(random_state=RANDOM_STATE, n_jobs=-1)\n",
    "    reg_model.fit(x_train, y_train)\n",
    "    candidate_model_uri = mlflow.sklearn.log_model(\n",
    "        reg_model, \"candidate_model\", signature=signature\n",
    "    ).model_uri\n",
    "    \n",
    "    mlflow.evaluate(\n",
    "        candidate_model_uri,\n",
    "        eval_data,\n",
    "        baseline_model=baseline_model_uri,\n",
    "        **eval_config\n",
    "    )\n",
    "    mlflow.evaluate(\n",
    "        candidate_model_uri,\n",
    "        train_data,\n",
    "        baseline_model=baseline_model_uri,\n",
    "        **train_config\n",
    "    )\n",
    "mlflow.end_run()"
   ],
   "metadata": {
    "collapsed": false,
    "ExecuteTime": {
     "end_time": "2024-03-29T14:51:50.116121Z",
     "start_time": "2024-03-29T14:51:44.423930Z"
    }
   },
   "execution_count": 28
  },
  {
   "cell_type": "code",
   "execution_count": 29,
   "metadata": {
    "ExecuteTime": {
     "end_time": "2024-03-29T14:51:50.133126Z",
     "start_time": "2024-03-29T14:51:50.116936Z"
    }
   },
   "outputs": [],
   "source": [
    "reg_y_preds = reg_model.predict(x_test)"
   ]
  },
  {
   "cell_type": "code",
   "execution_count": 30,
   "metadata": {
    "ExecuteTime": {
     "end_time": "2024-03-29T14:51:50.148606Z",
     "start_time": "2024-03-29T14:51:50.136622Z"
    }
   },
   "outputs": [
    {
     "data": {
      "text/plain": "array([[18188,   157],\n       [ 4012,   151]])"
     },
     "execution_count": 30,
     "metadata": {},
     "output_type": "execute_result"
    }
   ],
   "source": [
    "confusion_matrix(y_test, reg_y_preds)"
   ]
  },
  {
   "cell_type": "code",
   "execution_count": 31,
   "metadata": {
    "ExecuteTime": {
     "end_time": "2024-03-29T14:51:50.189143Z",
     "start_time": "2024-03-29T14:51:50.150913Z"
    }
   },
   "outputs": [
    {
     "data": {
      "text/plain": "                      0            1  accuracy     macro avg  weighted avg\nprecision      0.819279     0.490260  0.814777      0.654770      0.758425\nrecall         0.991442     0.036272  0.814777      0.513857      0.814777\nf1-score       0.897176     0.067546  0.814777      0.482361      0.743731\nsupport    18345.000000  4163.000000  0.814777  22508.000000  22508.000000",
      "text/html": "<div>\n<style scoped>\n    .dataframe tbody tr th:only-of-type {\n        vertical-align: middle;\n    }\n\n    .dataframe tbody tr th {\n        vertical-align: top;\n    }\n\n    .dataframe thead th {\n        text-align: right;\n    }\n</style>\n<table border=\"1\" class=\"dataframe\">\n  <thead>\n    <tr style=\"text-align: right;\">\n      <th></th>\n      <th>0</th>\n      <th>1</th>\n      <th>accuracy</th>\n      <th>macro avg</th>\n      <th>weighted avg</th>\n    </tr>\n  </thead>\n  <tbody>\n    <tr>\n      <th>precision</th>\n      <td>0.819279</td>\n      <td>0.490260</td>\n      <td>0.814777</td>\n      <td>0.654770</td>\n      <td>0.758425</td>\n    </tr>\n    <tr>\n      <th>recall</th>\n      <td>0.991442</td>\n      <td>0.036272</td>\n      <td>0.814777</td>\n      <td>0.513857</td>\n      <td>0.814777</td>\n    </tr>\n    <tr>\n      <th>f1-score</th>\n      <td>0.897176</td>\n      <td>0.067546</td>\n      <td>0.814777</td>\n      <td>0.482361</td>\n      <td>0.743731</td>\n    </tr>\n    <tr>\n      <th>support</th>\n      <td>18345.000000</td>\n      <td>4163.000000</td>\n      <td>0.814777</td>\n      <td>22508.000000</td>\n      <td>22508.000000</td>\n    </tr>\n  </tbody>\n</table>\n</div>"
     },
     "execution_count": 31,
     "metadata": {},
     "output_type": "execute_result"
    }
   ],
   "source": [
    "pd.DataFrame(classification_report(y_test, reg_y_preds, output_dict=True))"
   ]
  },
  {
   "attachments": {},
   "cell_type": "markdown",
   "metadata": {},
   "source": [
    "## 5. Data Analysis: Third Sight"
   ]
  },
  {
   "attachments": {},
   "cell_type": "markdown",
   "metadata": {},
   "source": [
    "### Feature Importance"
   ]
  },
  {
   "cell_type": "code",
   "execution_count": 32,
   "metadata": {
    "ExecuteTime": {
     "end_time": "2024-03-29T14:51:50.515529Z",
     "start_time": "2024-03-29T14:51:50.190740Z"
    }
   },
   "outputs": [
    {
     "data": {
      "text/plain": "<Figure size 1050x700 with 0 Axes>"
     },
     "metadata": {},
     "output_type": "display_data"
    },
    {
     "data": {
      "text/plain": "<Figure size 1000x500 with 0 Axes>"
     },
     "metadata": {},
     "output_type": "display_data"
    },
    {
     "data": {
      "text/plain": "<Figure size 640x480 with 1 Axes>",
      "image/png": "[encoded data removed]"
     },
     "metadata": {},
     "output_type": "display_data"
    }
   ],
   "source": [
    "plt.figure(figsize = (10,5))\n",
    "plot_importance(xgb_model)\n",
    "plt.show()"
   ]
  },
  {
   "cell_type": "code",
   "execution_count": 33,
   "metadata": {
    "ExecuteTime": {
     "end_time": "2024-03-29T14:51:50.517927Z",
     "start_time": "2024-03-29T14:51:50.516111Z"
    }
   },
   "outputs": [],
   "source": [
    "top_10_features = [\n",
    "    \"OPERA_Latin American Wings\", \n",
    "    \"MES_7\",\n",
    "    \"MES_10\",\n",
    "    \"OPERA_Grupo LATAM\",\n",
    "    \"MES_12\",\n",
    "    \"TIPOVUELO_I\",\n",
    "    \"MES_4\",\n",
    "    \"MES_11\",\n",
    "    \"OPERA_Sky Airline\",\n",
    "    \"OPERA_Copa Air\"\n",
    "]"
   ]
  },
  {
   "attachments": {},
   "cell_type": "markdown",
   "metadata": {},
   "source": [
    "### Data Balance"
   ]
  },
  {
   "cell_type": "code",
   "execution_count": 34,
   "metadata": {
    "ExecuteTime": {
     "end_time": "2024-03-29T14:51:50.521568Z",
     "start_time": "2024-03-29T14:51:50.518382Z"
    }
   },
   "outputs": [
    {
     "name": "stdout",
     "output_type": "stream",
     "text": [
      "1.0\n"
     ]
    }
   ],
   "source": [
    "n_y0 = len(y_train[y_train == 0])\n",
    "n_y1 = len(y_train[y_train == 1])\n",
    "scale = n_y0/n_y1\n",
    "print(scale)"
   ]
  },
  {
   "attachments": {},
   "cell_type": "markdown",
   "metadata": {},
   "source": [
    "## 6. Training with Improvement"
   ]
  },
  {
   "attachments": {},
   "cell_type": "markdown",
   "metadata": {},
   "source": [
    "### 6.a. Data Split"
   ]
  },
  {
   "cell_type": "code",
   "execution_count": 35,
   "metadata": {
    "ExecuteTime": {
     "end_time": "2024-03-29T14:51:50.623300Z",
     "start_time": "2024-03-29T14:51:50.522301Z"
    }
   },
   "outputs": [],
   "source": [
    "x_train2, x_test2, y_train2, y_test2 = train_test_split(\n",
    "    features[top_10_features], \n",
    "    target, \n",
    "    test_size = 0.33, \n",
    "    random_state = RANDOM_STATE,\n",
    "    stratify = target\n",
    ")"
   ]
  },
  {
   "attachments": {},
   "cell_type": "markdown",
   "metadata": {},
   "source": [
    "### 6.b. Model Selection"
   ]
  },
  {
   "cell_type": "code",
   "outputs": [],
   "source": [
    "signature = infer_signature(x_test2, y_test2)"
   ],
   "metadata": {
    "collapsed": false,
    "ExecuteTime": {
     "end_time": "2024-03-29T14:51:50.649015Z",
     "start_time": "2024-03-29T14:51:50.624145Z"
    }
   },
   "execution_count": 36
  },
  {
   "cell_type": "code",
   "outputs": [
    {
     "data": {
      "text/plain": "       OPERA_Latin American Wings  MES_7  MES_10  OPERA_Grupo LATAM  MES_12  \\\n35760                       False   True   False               True   False   \n16344                       False  False   False               True   False   \n40013                       False  False   False              False   False   \n26655                       False  False   False               True   False   \n47723                       False  False   False               True   False   \n\n       TIPOVUELO_I  MES_4  MES_11  OPERA_Sky Airline  OPERA_Copa Air  label  \n35760        False  False   False              False           False      0  \n16344         True  False   False              False           False      0  \n40013        False  False   False               True           False      0  \n26655         True  False   False              False           False      0  \n47723        False  False   False              False           False      0  ",
      "text/html": "<div>\n<style scoped>\n    .dataframe tbody tr th:only-of-type {\n        vertical-align: middle;\n    }\n\n    .dataframe tbody tr th {\n        vertical-align: top;\n    }\n\n    .dataframe thead th {\n        text-align: right;\n    }\n</style>\n<table border=\"1\" class=\"dataframe\">\n  <thead>\n    <tr style=\"text-align: right;\">\n      <th></th>\n      <th>OPERA_Latin American Wings</th>\n      <th>MES_7</th>\n      <th>MES_10</th>\n      <th>OPERA_Grupo LATAM</th>\n      <th>MES_12</th>\n      <th>TIPOVUELO_I</th>\n      <th>MES_4</th>\n      <th>MES_11</th>\n      <th>OPERA_Sky Airline</th>\n      <th>OPERA_Copa Air</th>\n      <th>label</th>\n    </tr>\n  </thead>\n  <tbody>\n    <tr>\n      <th>35760</th>\n      <td>False</td>\n      <td>True</td>\n      <td>False</td>\n      <td>True</td>\n      <td>False</td>\n      <td>False</td>\n      <td>False</td>\n      <td>False</td>\n      <td>False</td>\n      <td>False</td>\n      <td>0</td>\n    </tr>\n    <tr>\n      <th>16344</th>\n      <td>False</td>\n      <td>False</td>\n      <td>False</td>\n      <td>True</td>\n      <td>False</td>\n      <td>True</td>\n      <td>False</td>\n      <td>False</td>\n      <td>False</td>\n      <td>False</td>\n      <td>0</td>\n    </tr>\n    <tr>\n      <th>40013</th>\n      <td>False</td>\n      <td>False</td>\n      <td>False</td>\n      <td>False</td>\n      <td>False</td>\n      <td>False</td>\n      <td>False</td>\n      <td>False</td>\n      <td>True</td>\n      <td>False</td>\n      <td>0</td>\n    </tr>\n    <tr>\n      <th>26655</th>\n      <td>False</td>\n      <td>False</td>\n      <td>False</td>\n      <td>True</td>\n      <td>False</td>\n      <td>True</td>\n      <td>False</td>\n      <td>False</td>\n      <td>False</td>\n      <td>False</td>\n      <td>0</td>\n    </tr>\n    <tr>\n      <th>47723</th>\n      <td>False</td>\n      <td>False</td>\n      <td>False</td>\n      <td>True</td>\n      <td>False</td>\n      <td>False</td>\n      <td>False</td>\n      <td>False</td>\n      <td>False</td>\n      <td>False</td>\n      <td>0</td>\n    </tr>\n  </tbody>\n</table>\n</div>"
     },
     "execution_count": 37,
     "metadata": {},
     "output_type": "execute_result"
    }
   ],
   "source": [
    "eval_data = x_test2.copy()\n",
    "eval_data[\"label\"] = y_test2.copy()\n",
    "eval_data.head()"
   ],
   "metadata": {
    "collapsed": false,
    "ExecuteTime": {
     "end_time": "2024-03-29T14:51:50.654371Z",
     "start_time": "2024-03-29T14:51:50.649754Z"
    }
   },
   "execution_count": 37
  },
  {
   "cell_type": "code",
   "outputs": [
    {
     "data": {
      "text/plain": "       OPERA_Latin American Wings  MES_7  MES_10  OPERA_Grupo LATAM  MES_12  \\\n53264                       False  False    True               True   False   \n64357                       False  False   False              False    True   \n29154                       False  False   False              False   False   \n8832                        False  False   False               True   False   \n1749                        False  False   False              False   False   \n\n       TIPOVUELO_I  MES_4  MES_11  OPERA_Sky Airline  OPERA_Copa Air  label  \n53264        False  False   False              False           False      0  \n64357         True  False   False               True           False      1  \n29154        False  False   False               True           False      0  \n8832         False  False   False              False           False      0  \n1749         False  False   False               True           False      0  ",
      "text/html": "<div>\n<style scoped>\n    .dataframe tbody tr th:only-of-type {\n        vertical-align: middle;\n    }\n\n    .dataframe tbody tr th {\n        vertical-align: top;\n    }\n\n    .dataframe thead th {\n        text-align: right;\n    }\n</style>\n<table border=\"1\" class=\"dataframe\">\n  <thead>\n    <tr style=\"text-align: right;\">\n      <th></th>\n      <th>OPERA_Latin American Wings</th>\n      <th>MES_7</th>\n      <th>MES_10</th>\n      <th>OPERA_Grupo LATAM</th>\n      <th>MES_12</th>\n      <th>TIPOVUELO_I</th>\n      <th>MES_4</th>\n      <th>MES_11</th>\n      <th>OPERA_Sky Airline</th>\n      <th>OPERA_Copa Air</th>\n      <th>label</th>\n    </tr>\n  </thead>\n  <tbody>\n    <tr>\n      <th>53264</th>\n      <td>False</td>\n      <td>False</td>\n      <td>True</td>\n      <td>True</td>\n      <td>False</td>\n      <td>False</td>\n      <td>False</td>\n      <td>False</td>\n      <td>False</td>\n      <td>False</td>\n      <td>0</td>\n    </tr>\n    <tr>\n      <th>64357</th>\n      <td>False</td>\n      <td>False</td>\n      <td>False</td>\n      <td>False</td>\n      <td>True</td>\n      <td>True</td>\n      <td>False</td>\n      <td>False</td>\n      <td>True</td>\n      <td>False</td>\n      <td>1</td>\n    </tr>\n    <tr>\n      <th>29154</th>\n      <td>False</td>\n      <td>False</td>\n      <td>False</td>\n      <td>False</td>\n      <td>False</td>\n      <td>False</td>\n      <td>False</td>\n      <td>False</td>\n      <td>True</td>\n      <td>False</td>\n      <td>0</td>\n    </tr>\n    <tr>\n      <th>8832</th>\n      <td>False</td>\n      <td>False</td>\n      <td>False</td>\n      <td>True</td>\n      <td>False</td>\n      <td>False</td>\n      <td>False</td>\n      <td>False</td>\n      <td>False</td>\n      <td>False</td>\n      <td>0</td>\n    </tr>\n    <tr>\n      <th>1749</th>\n      <td>False</td>\n      <td>False</td>\n      <td>False</td>\n      <td>False</td>\n      <td>False</td>\n      <td>False</td>\n      <td>False</td>\n      <td>False</td>\n      <td>True</td>\n      <td>False</td>\n      <td>0</td>\n    </tr>\n  </tbody>\n</table>\n</div>"
     },
     "execution_count": 38,
     "metadata": {},
     "output_type": "execute_result"
    }
   ],
   "source": [
    "train_data = x_train2.copy()\n",
    "train_data[\"label\"] = y_train2.copy()\n",
    "train_data.head()"
   ],
   "metadata": {
    "collapsed": false,
    "ExecuteTime": {
     "end_time": "2024-03-29T14:51:50.659892Z",
     "start_time": "2024-03-29T14:51:50.655073Z"
    }
   },
   "execution_count": 38
  },
  {
   "cell_type": "markdown",
   "source": [
    "### 6.b.0 Baseline Model"
   ],
   "metadata": {
    "collapsed": false
   }
  },
  {
   "cell_type": "code",
   "outputs": [],
   "source": [
    "desc = \"Baseline Model Top 10 features\"\n",
    "run_name = \"Baseline Model Top 10 features\"\n",
    "with mlflow.start_run(description=desc, run_name=run_name) as _:\n",
    "    baseline_model = DummyClassifier(strategy=\"uniform\", random_state=RANDOM_STATE).fit(x_train2, y_train2)\n",
    "    \n",
    "    baseline_model_uri = mlflow.sklearn.log_model(\n",
    "        baseline_model, \"model\", signature=signature\n",
    "    ).model_uri\n",
    "\n",
    "mlflow.end_run()"
   ],
   "metadata": {
    "collapsed": false,
    "ExecuteTime": {
     "end_time": "2024-03-29T14:51:51.996502Z",
     "start_time": "2024-03-29T14:51:50.663984Z"
    }
   },
   "execution_count": 39
  },
  {
   "attachments": {},
   "cell_type": "markdown",
   "metadata": {},
   "source": [
    "#### 6.b.i. XGBoost with Feature Importance and with Balance"
   ]
  },
  {
   "cell_type": "code",
   "outputs": [
    {
     "name": "stderr",
     "output_type": "stream",
     "text": [
      "2024/03/29 11:51:53 INFO mlflow.models.evaluation.base: Evaluating the model with the default evaluator.\n",
      "2024/03/29 11:51:53 INFO mlflow.models.evaluation.default_evaluator: Evaluating candidate model:\n",
      "2024/03/29 11:51:53 INFO mlflow.models.evaluation.default_evaluator: Computing model predictions.\n",
      "2024/03/29 11:51:53 INFO mlflow.models.evaluation.default_evaluator: The evaluation dataset is inferred as binary dataset, positive label is 1, negative label is 0.\n",
      "2024/03/29 11:51:53 INFO mlflow.models.evaluation.default_evaluator: Testing metrics on first row...\n",
      "2024/03/29 11:51:54 WARNING mlflow.models.evaluation.default_evaluator: Skip logging model explainability insights because the shap explainer permutation requires all feature values to be numeric, and each feature column must only contain scalar values.\n",
      "2024/03/29 11:51:54 INFO mlflow.models.evaluation.default_evaluator: Evaluating baseline model:\n",
      "2024/03/29 11:51:54 INFO mlflow.models.evaluation.default_evaluator: Computing model predictions.\n",
      "2024/03/29 11:51:54 INFO mlflow.models.evaluation.default_evaluator: The evaluation dataset is inferred as binary dataset, positive label is 1, negative label is 0.\n",
      "2024/03/29 11:51:54 INFO mlflow.models.evaluation.default_evaluator: Testing metrics on first row...\n",
      "2024/03/29 11:51:54 INFO mlflow.models.evaluation.base: Evaluating the model with the default evaluator.\n",
      "2024/03/29 11:51:54 INFO mlflow.models.evaluation.default_evaluator: Evaluating candidate model:\n",
      "2024/03/29 11:51:54 INFO mlflow.models.evaluation.default_evaluator: Computing model predictions.\n",
      "2024/03/29 11:51:54 INFO mlflow.models.evaluation.default_evaluator: The evaluation dataset is inferred as binary dataset, positive label is 1, negative label is 0.\n",
      "2024/03/29 11:51:54 INFO mlflow.models.evaluation.default_evaluator: Testing metrics on first row...\n",
      "2024/03/29 11:51:55 WARNING mlflow.models.evaluation.default_evaluator: Skip logging model explainability insights because the shap explainer permutation requires all feature values to be numeric, and each feature column must only contain scalar values.\n",
      "2024/03/29 11:51:55 INFO mlflow.models.evaluation.default_evaluator: Evaluating baseline model:\n",
      "2024/03/29 11:51:55 INFO mlflow.models.evaluation.default_evaluator: Computing model predictions.\n",
      "2024/03/29 11:51:55 INFO mlflow.models.evaluation.default_evaluator: The evaluation dataset is inferred as binary dataset, positive label is 1, negative label is 0.\n",
      "2024/03/29 11:51:55 INFO mlflow.models.evaluation.default_evaluator: Testing metrics on first row...\n"
     ]
    }
   ],
   "source": [
    "desc = \"XGBoost with Feature Importance and with Balance\"\n",
    "with mlflow.start_run(description=desc) as _:\n",
    "    xgb_model_2 = xgb.XGBClassifier(random_state=RANDOM_STATE, learning_rate=0.01, scale_pos_weight = scale)\n",
    "    xgb_model_2.fit(x_train2, y_train2)\n",
    "    \n",
    "    candidate_model_uri = mlflow.sklearn.log_model(\n",
    "        xgb_model_2, \"candidate_model\", signature=signature\n",
    "    ).model_uri\n",
    "    \n",
    "    mlflow.evaluate(\n",
    "        candidate_model_uri,\n",
    "        eval_data,\n",
    "        baseline_model=baseline_model_uri,\n",
    "        **eval_config\n",
    "    )\n",
    "    mlflow.evaluate(\n",
    "        candidate_model_uri,\n",
    "        train_data,\n",
    "        baseline_model=baseline_model_uri,\n",
    "        **train_config\n",
    "    )\n",
    "mlflow.end_run()"
   ],
   "metadata": {
    "collapsed": false,
    "ExecuteTime": {
     "end_time": "2024-03-29T14:51:55.630674Z",
     "start_time": "2024-03-29T14:51:51.997248Z"
    }
   },
   "execution_count": 40
  },
  {
   "cell_type": "code",
   "execution_count": 41,
   "metadata": {
    "ExecuteTime": {
     "end_time": "2024-03-29T14:51:55.640906Z",
     "start_time": "2024-03-29T14:51:55.631542Z"
    }
   },
   "outputs": [],
   "source": [
    "xgboost_y_preds_2 = xgb_model_2.predict(x_test2)"
   ]
  },
  {
   "cell_type": "code",
   "execution_count": 42,
   "metadata": {
    "ExecuteTime": {
     "end_time": "2024-03-29T14:51:55.647397Z",
     "start_time": "2024-03-29T14:51:55.641515Z"
    }
   },
   "outputs": [
    {
     "data": {
      "text/plain": "array([[18336,     9],\n       [ 4137,    26]])"
     },
     "execution_count": 42,
     "metadata": {},
     "output_type": "execute_result"
    }
   ],
   "source": [
    "confusion_matrix(y_test2, xgboost_y_preds_2)"
   ]
  },
  {
   "cell_type": "code",
   "execution_count": 43,
   "metadata": {
    "ExecuteTime": {
     "end_time": "2024-03-29T14:51:55.669144Z",
     "start_time": "2024-03-29T14:51:55.648117Z"
    }
   },
   "outputs": [
    {
     "data": {
      "text/plain": "                      0            1  accuracy     macro avg  weighted avg\nprecision      0.815912     0.742857  0.815799      0.779385      0.802400\nrecall         0.999509     0.006245  0.815799      0.502877      0.815799\nf1-score       0.898427     0.012387  0.815799      0.455407      0.734548\nsupport    18345.000000  4163.000000  0.815799  22508.000000  22508.000000",
      "text/html": "<div>\n<style scoped>\n    .dataframe tbody tr th:only-of-type {\n        vertical-align: middle;\n    }\n\n    .dataframe tbody tr th {\n        vertical-align: top;\n    }\n\n    .dataframe thead th {\n        text-align: right;\n    }\n</style>\n<table border=\"1\" class=\"dataframe\">\n  <thead>\n    <tr style=\"text-align: right;\">\n      <th></th>\n      <th>0</th>\n      <th>1</th>\n      <th>accuracy</th>\n      <th>macro avg</th>\n      <th>weighted avg</th>\n    </tr>\n  </thead>\n  <tbody>\n    <tr>\n      <th>precision</th>\n      <td>0.815912</td>\n      <td>0.742857</td>\n      <td>0.815799</td>\n      <td>0.779385</td>\n      <td>0.802400</td>\n    </tr>\n    <tr>\n      <th>recall</th>\n      <td>0.999509</td>\n      <td>0.006245</td>\n      <td>0.815799</td>\n      <td>0.502877</td>\n      <td>0.815799</td>\n    </tr>\n    <tr>\n      <th>f1-score</th>\n      <td>0.898427</td>\n      <td>0.012387</td>\n      <td>0.815799</td>\n      <td>0.455407</td>\n      <td>0.734548</td>\n    </tr>\n    <tr>\n      <th>support</th>\n      <td>18345.000000</td>\n      <td>4163.000000</td>\n      <td>0.815799</td>\n      <td>22508.000000</td>\n      <td>22508.000000</td>\n    </tr>\n  </tbody>\n</table>\n</div>"
     },
     "execution_count": 43,
     "metadata": {},
     "output_type": "execute_result"
    }
   ],
   "source": [
    "pd.DataFrame(classification_report(y_test2, xgboost_y_preds_2, output_dict=True))"
   ]
  },
  {
   "attachments": {},
   "cell_type": "markdown",
   "metadata": {},
   "source": [
    "#### 6.b.ii. XGBoost with Feature Importance but without Balance"
   ]
  },
  {
   "cell_type": "code",
   "outputs": [
    {
     "name": "stderr",
     "output_type": "stream",
     "text": [
      "2024/03/29 11:51:57 INFO mlflow.models.evaluation.base: Evaluating the model with the default evaluator.\n",
      "2024/03/29 11:51:57 INFO mlflow.models.evaluation.default_evaluator: Evaluating candidate model:\n",
      "2024/03/29 11:51:57 INFO mlflow.models.evaluation.default_evaluator: Computing model predictions.\n",
      "2024/03/29 11:51:57 INFO mlflow.models.evaluation.default_evaluator: The evaluation dataset is inferred as binary dataset, positive label is 1, negative label is 0.\n",
      "2024/03/29 11:51:57 INFO mlflow.models.evaluation.default_evaluator: Testing metrics on first row...\n",
      "2024/03/29 11:51:58 WARNING mlflow.models.evaluation.default_evaluator: Skip logging model explainability insights because the shap explainer permutation requires all feature values to be numeric, and each feature column must only contain scalar values.\n",
      "2024/03/29 11:51:58 INFO mlflow.models.evaluation.default_evaluator: Evaluating baseline model:\n",
      "2024/03/29 11:51:58 INFO mlflow.models.evaluation.default_evaluator: Computing model predictions.\n",
      "2024/03/29 11:51:58 INFO mlflow.models.evaluation.default_evaluator: The evaluation dataset is inferred as binary dataset, positive label is 1, negative label is 0.\n",
      "2024/03/29 11:51:58 INFO mlflow.models.evaluation.default_evaluator: Testing metrics on first row...\n",
      "2024/03/29 11:51:58 INFO mlflow.models.evaluation.base: Evaluating the model with the default evaluator.\n",
      "2024/03/29 11:51:58 INFO mlflow.models.evaluation.default_evaluator: Evaluating candidate model:\n",
      "2024/03/29 11:51:58 INFO mlflow.models.evaluation.default_evaluator: Computing model predictions.\n",
      "2024/03/29 11:51:58 INFO mlflow.models.evaluation.default_evaluator: The evaluation dataset is inferred as binary dataset, positive label is 1, negative label is 0.\n",
      "2024/03/29 11:51:58 INFO mlflow.models.evaluation.default_evaluator: Testing metrics on first row...\n",
      "2024/03/29 11:51:59 WARNING mlflow.models.evaluation.default_evaluator: Skip logging model explainability insights because the shap explainer permutation requires all feature values to be numeric, and each feature column must only contain scalar values.\n",
      "2024/03/29 11:51:59 INFO mlflow.models.evaluation.default_evaluator: Evaluating baseline model:\n",
      "2024/03/29 11:51:59 INFO mlflow.models.evaluation.default_evaluator: Computing model predictions.\n",
      "2024/03/29 11:51:59 INFO mlflow.models.evaluation.default_evaluator: The evaluation dataset is inferred as binary dataset, positive label is 1, negative label is 0.\n",
      "2024/03/29 11:51:59 INFO mlflow.models.evaluation.default_evaluator: Testing metrics on first row...\n"
     ]
    }
   ],
   "source": [
    "desc = \"XGBoost with Feature Importance but without Balance\"\n",
    "with mlflow.start_run(description=desc) as _:\n",
    "    xgb_model_3 = xgb.XGBClassifier(random_state=RANDOM_STATE, learning_rate=0.01)\n",
    "    xgb_model_3.fit(x_train2, y_train2)\n",
    "    \n",
    "    candidate_model_uri = mlflow.sklearn.log_model(\n",
    "        xgb_model_3, \"candidate_model\", signature=signature\n",
    "    ).model_uri\n",
    "    \n",
    "    mlflow.evaluate(\n",
    "        candidate_model_uri,\n",
    "        eval_data,\n",
    "        baseline_model=baseline_model_uri,\n",
    "        **eval_config\n",
    "    )\n",
    "    mlflow.evaluate(\n",
    "        candidate_model_uri,\n",
    "        train_data,\n",
    "        baseline_model=baseline_model_uri,\n",
    "        **train_config\n",
    "    )\n",
    "mlflow.end_run()"
   ],
   "metadata": {
    "collapsed": false,
    "ExecuteTime": {
     "end_time": "2024-03-29T14:51:59.289448Z",
     "start_time": "2024-03-29T14:51:55.670155Z"
    }
   },
   "execution_count": 44
  },
  {
   "cell_type": "code",
   "execution_count": 45,
   "metadata": {
    "ExecuteTime": {
     "end_time": "2024-03-29T14:51:59.301486Z",
     "start_time": "2024-03-29T14:51:59.290281Z"
    }
   },
   "outputs": [],
   "source": [
    "xgboost_y_preds_3 = xgb_model_3.predict(x_test2)"
   ]
  },
  {
   "cell_type": "code",
   "execution_count": 46,
   "metadata": {
    "ExecuteTime": {
     "end_time": "2024-03-29T14:51:59.307883Z",
     "start_time": "2024-03-29T14:51:59.302124Z"
    }
   },
   "outputs": [
    {
     "data": {
      "text/plain": "array([[18336,     9],\n       [ 4137,    26]])"
     },
     "execution_count": 46,
     "metadata": {},
     "output_type": "execute_result"
    }
   ],
   "source": [
    "confusion_matrix(y_test2, xgboost_y_preds_3)"
   ]
  },
  {
   "cell_type": "code",
   "execution_count": 47,
   "metadata": {
    "ExecuteTime": {
     "end_time": "2024-03-29T14:51:59.334695Z",
     "start_time": "2024-03-29T14:51:59.309712Z"
    }
   },
   "outputs": [
    {
     "data": {
      "text/plain": "                      0            1  accuracy     macro avg  weighted avg\nprecision      0.815912     0.742857  0.815799      0.779385      0.802400\nrecall         0.999509     0.006245  0.815799      0.502877      0.815799\nf1-score       0.898427     0.012387  0.815799      0.455407      0.734548\nsupport    18345.000000  4163.000000  0.815799  22508.000000  22508.000000",
      "text/html": "<div>\n<style scoped>\n    .dataframe tbody tr th:only-of-type {\n        vertical-align: middle;\n    }\n\n    .dataframe tbody tr th {\n        vertical-align: top;\n    }\n\n    .dataframe thead th {\n        text-align: right;\n    }\n</style>\n<table border=\"1\" class=\"dataframe\">\n  <thead>\n    <tr style=\"text-align: right;\">\n      <th></th>\n      <th>0</th>\n      <th>1</th>\n      <th>accuracy</th>\n      <th>macro avg</th>\n      <th>weighted avg</th>\n    </tr>\n  </thead>\n  <tbody>\n    <tr>\n      <th>precision</th>\n      <td>0.815912</td>\n      <td>0.742857</td>\n      <td>0.815799</td>\n      <td>0.779385</td>\n      <td>0.802400</td>\n    </tr>\n    <tr>\n      <th>recall</th>\n      <td>0.999509</td>\n      <td>0.006245</td>\n      <td>0.815799</td>\n      <td>0.502877</td>\n      <td>0.815799</td>\n    </tr>\n    <tr>\n      <th>f1-score</th>\n      <td>0.898427</td>\n      <td>0.012387</td>\n      <td>0.815799</td>\n      <td>0.455407</td>\n      <td>0.734548</td>\n    </tr>\n    <tr>\n      <th>support</th>\n      <td>18345.000000</td>\n      <td>4163.000000</td>\n      <td>0.815799</td>\n      <td>22508.000000</td>\n      <td>22508.000000</td>\n    </tr>\n  </tbody>\n</table>\n</div>"
     },
     "execution_count": 47,
     "metadata": {},
     "output_type": "execute_result"
    }
   ],
   "source": [
    "pd.DataFrame(classification_report(y_test2, xgboost_y_preds_3, output_dict=True))"
   ]
  },
  {
   "attachments": {},
   "cell_type": "markdown",
   "metadata": {},
   "source": [
    "#### 6.b.iii. Logistic Regression with Feature Importante and with Balance"
   ]
  },
  {
   "cell_type": "code",
   "outputs": [
    {
     "name": "stderr",
     "output_type": "stream",
     "text": [
      "2024/03/29 11:52:01 INFO mlflow.models.evaluation.base: Evaluating the model with the default evaluator.\n",
      "2024/03/29 11:52:01 INFO mlflow.models.evaluation.default_evaluator: Evaluating candidate model:\n",
      "2024/03/29 11:52:01 INFO mlflow.models.evaluation.default_evaluator: Computing model predictions.\n",
      "2024/03/29 11:52:01 INFO mlflow.models.evaluation.default_evaluator: The evaluation dataset is inferred as binary dataset, positive label is 1, negative label is 0.\n",
      "2024/03/29 11:52:01 INFO mlflow.models.evaluation.default_evaluator: Testing metrics on first row...\n",
      "2024/03/29 11:52:01 WARNING mlflow.models.evaluation.default_evaluator: Skip logging model explainability insights because the shap explainer permutation requires all feature values to be numeric, and each feature column must only contain scalar values.\n",
      "2024/03/29 11:52:01 INFO mlflow.models.evaluation.default_evaluator: Evaluating baseline model:\n",
      "2024/03/29 11:52:01 INFO mlflow.models.evaluation.default_evaluator: Computing model predictions.\n",
      "2024/03/29 11:52:01 INFO mlflow.models.evaluation.default_evaluator: The evaluation dataset is inferred as binary dataset, positive label is 1, negative label is 0.\n",
      "2024/03/29 11:52:02 INFO mlflow.models.evaluation.default_evaluator: Testing metrics on first row...\n",
      "2024/03/29 11:52:02 INFO mlflow.models.evaluation.base: Evaluating the model with the default evaluator.\n",
      "2024/03/29 11:52:02 INFO mlflow.models.evaluation.default_evaluator: Evaluating candidate model:\n",
      "2024/03/29 11:52:02 INFO mlflow.models.evaluation.default_evaluator: Computing model predictions.\n",
      "2024/03/29 11:52:02 INFO mlflow.models.evaluation.default_evaluator: The evaluation dataset is inferred as binary dataset, positive label is 1, negative label is 0.\n",
      "2024/03/29 11:52:02 INFO mlflow.models.evaluation.default_evaluator: Testing metrics on first row...\n",
      "2024/03/29 11:52:03 WARNING mlflow.models.evaluation.default_evaluator: Skip logging model explainability insights because the shap explainer permutation requires all feature values to be numeric, and each feature column must only contain scalar values.\n",
      "2024/03/29 11:52:03 INFO mlflow.models.evaluation.default_evaluator: Evaluating baseline model:\n",
      "2024/03/29 11:52:03 INFO mlflow.models.evaluation.default_evaluator: Computing model predictions.\n",
      "2024/03/29 11:52:03 INFO mlflow.models.evaluation.default_evaluator: The evaluation dataset is inferred as binary dataset, positive label is 1, negative label is 0.\n",
      "2024/03/29 11:52:03 INFO mlflow.models.evaluation.default_evaluator: Testing metrics on first row...\n"
     ]
    }
   ],
   "source": [
    "desc = \"Logistic Regression with Feature Importante and with Balance\"\n",
    "with mlflow.start_run(description=desc) as _:\n",
    "    reg_model_2 = LogisticRegression(\n",
    "        class_weight={1: n_y0/len(y_train), 0: n_y1/len(y_train)},\n",
    "        random_state=RANDOM_STATE,\n",
    "        n_jobs=-1\n",
    "    )\n",
    "    reg_model_2.fit(x_train2, y_train2)\n",
    "    \n",
    "    candidate_model_uri = mlflow.sklearn.log_model(\n",
    "        reg_model_2, \"candidate_model\", signature=signature\n",
    "    ).model_uri\n",
    "    \n",
    "    mlflow.evaluate(\n",
    "        candidate_model_uri,\n",
    "        eval_data,\n",
    "        baseline_model=baseline_model_uri,\n",
    "        **eval_config\n",
    "    )\n",
    "    mlflow.evaluate(\n",
    "        candidate_model_uri,\n",
    "        train_data,\n",
    "        baseline_model=baseline_model_uri,\n",
    "        **train_config\n",
    "    )\n",
    "mlflow.end_run()"
   ],
   "metadata": {
    "collapsed": false,
    "ExecuteTime": {
     "end_time": "2024-03-29T14:52:03.247369Z",
     "start_time": "2024-03-29T14:51:59.336046Z"
    }
   },
   "execution_count": 48
  },
  {
   "cell_type": "code",
   "execution_count": 49,
   "metadata": {
    "ExecuteTime": {
     "end_time": "2024-03-29T14:52:03.265793Z",
     "start_time": "2024-03-29T14:52:03.248312Z"
    }
   },
   "outputs": [],
   "source": [
    "reg_y_preds_2 = reg_model_2.predict(x_test2)"
   ]
  },
  {
   "cell_type": "code",
   "execution_count": 50,
   "metadata": {
    "ExecuteTime": {
     "end_time": "2024-03-29T14:52:03.297863Z",
     "start_time": "2024-03-29T14:52:03.267107Z"
    }
   },
   "outputs": [
    {
     "data": {
      "text/plain": "array([[18300,    45],\n       [ 4099,    64]])"
     },
     "execution_count": 50,
     "metadata": {},
     "output_type": "execute_result"
    }
   ],
   "source": [
    "confusion_matrix(y_test2, reg_y_preds_2)"
   ]
  },
  {
   "cell_type": "code",
   "execution_count": 51,
   "metadata": {
    "ExecuteTime": {
     "end_time": "2024-03-29T14:52:03.371092Z",
     "start_time": "2024-03-29T14:52:03.322004Z"
    }
   },
   "outputs": [
    {
     "data": {
      "text/plain": "                      0            1  accuracy     macro avg  weighted avg\nprecision      0.817001     0.587156  0.815888      0.702078      0.774489\nrecall         0.997547     0.015374  0.815888      0.506460      0.815888\nf1-score       0.898292     0.029963  0.815888      0.464127      0.737689\nsupport    18345.000000  4163.000000  0.815888  22508.000000  22508.000000",
      "text/html": "<div>\n<style scoped>\n    .dataframe tbody tr th:only-of-type {\n        vertical-align: middle;\n    }\n\n    .dataframe tbody tr th {\n        vertical-align: top;\n    }\n\n    .dataframe thead th {\n        text-align: right;\n    }\n</style>\n<table border=\"1\" class=\"dataframe\">\n  <thead>\n    <tr style=\"text-align: right;\">\n      <th></th>\n      <th>0</th>\n      <th>1</th>\n      <th>accuracy</th>\n      <th>macro avg</th>\n      <th>weighted avg</th>\n    </tr>\n  </thead>\n  <tbody>\n    <tr>\n      <th>precision</th>\n      <td>0.817001</td>\n      <td>0.587156</td>\n      <td>0.815888</td>\n      <td>0.702078</td>\n      <td>0.774489</td>\n    </tr>\n    <tr>\n      <th>recall</th>\n      <td>0.997547</td>\n      <td>0.015374</td>\n      <td>0.815888</td>\n      <td>0.506460</td>\n      <td>0.815888</td>\n    </tr>\n    <tr>\n      <th>f1-score</th>\n      <td>0.898292</td>\n      <td>0.029963</td>\n      <td>0.815888</td>\n      <td>0.464127</td>\n      <td>0.737689</td>\n    </tr>\n    <tr>\n      <th>support</th>\n      <td>18345.000000</td>\n      <td>4163.000000</td>\n      <td>0.815888</td>\n      <td>22508.000000</td>\n      <td>22508.000000</td>\n    </tr>\n  </tbody>\n</table>\n</div>"
     },
     "execution_count": 51,
     "metadata": {},
     "output_type": "execute_result"
    }
   ],
   "source": [
    "pd.DataFrame(classification_report(y_test2, reg_y_preds_2, output_dict=True))"
   ]
  },
  {
   "attachments": {},
   "cell_type": "markdown",
   "metadata": {},
   "source": [
    "#### 6.b.iv. Logistic Regression with Feature Importante but without Balance"
   ]
  },
  {
   "cell_type": "code",
   "outputs": [
    {
     "name": "stderr",
     "output_type": "stream",
     "text": [
      "2024/03/29 11:52:05 INFO mlflow.models.evaluation.base: Evaluating the model with the default evaluator.\n",
      "2024/03/29 11:52:05 INFO mlflow.models.evaluation.default_evaluator: Evaluating candidate model:\n",
      "2024/03/29 11:52:05 INFO mlflow.models.evaluation.default_evaluator: Computing model predictions.\n",
      "2024/03/29 11:52:05 INFO mlflow.models.evaluation.default_evaluator: The evaluation dataset is inferred as binary dataset, positive label is 1, negative label is 0.\n",
      "2024/03/29 11:52:05 INFO mlflow.models.evaluation.default_evaluator: Testing metrics on first row...\n",
      "2024/03/29 11:52:05 WARNING mlflow.models.evaluation.default_evaluator: Skip logging model explainability insights because the shap explainer permutation requires all feature values to be numeric, and each feature column must only contain scalar values.\n",
      "2024/03/29 11:52:05 INFO mlflow.models.evaluation.default_evaluator: Evaluating baseline model:\n",
      "2024/03/29 11:52:05 INFO mlflow.models.evaluation.default_evaluator: Computing model predictions.\n",
      "2024/03/29 11:52:05 INFO mlflow.models.evaluation.default_evaluator: The evaluation dataset is inferred as binary dataset, positive label is 1, negative label is 0.\n",
      "2024/03/29 11:52:05 INFO mlflow.models.evaluation.default_evaluator: Testing metrics on first row...\n",
      "2024/03/29 11:52:06 INFO mlflow.models.evaluation.base: Evaluating the model with the default evaluator.\n",
      "2024/03/29 11:52:06 INFO mlflow.models.evaluation.default_evaluator: Evaluating candidate model:\n",
      "2024/03/29 11:52:06 INFO mlflow.models.evaluation.default_evaluator: Computing model predictions.\n",
      "2024/03/29 11:52:06 INFO mlflow.models.evaluation.default_evaluator: The evaluation dataset is inferred as binary dataset, positive label is 1, negative label is 0.\n",
      "2024/03/29 11:52:06 INFO mlflow.models.evaluation.default_evaluator: Testing metrics on first row...\n",
      "2024/03/29 11:52:07 WARNING mlflow.models.evaluation.default_evaluator: Skip logging model explainability insights because the shap explainer permutation requires all feature values to be numeric, and each feature column must only contain scalar values.\n",
      "2024/03/29 11:52:07 INFO mlflow.models.evaluation.default_evaluator: Evaluating baseline model:\n",
      "2024/03/29 11:52:07 INFO mlflow.models.evaluation.default_evaluator: Computing model predictions.\n",
      "2024/03/29 11:52:07 INFO mlflow.models.evaluation.default_evaluator: The evaluation dataset is inferred as binary dataset, positive label is 1, negative label is 0.\n",
      "2024/03/29 11:52:07 INFO mlflow.models.evaluation.default_evaluator: Testing metrics on first row...\n"
     ]
    }
   ],
   "source": [
    "desc = \"Logistic Regression with Feature Importante but without Balance\"\n",
    "with mlflow.start_run(description=desc) as _:\n",
    "    reg_model_3 = LogisticRegression(random_state=RANDOM_STATE, n_jobs=-1)\n",
    "    reg_model_3.fit(x_train2, y_train2)\n",
    "\n",
    "    candidate_model_uri = mlflow.sklearn.log_model(\n",
    "        reg_model_3, \"candidate_model\", signature=signature\n",
    "    ).model_uri\n",
    "    \n",
    "    mlflow.evaluate(\n",
    "        candidate_model_uri,\n",
    "        eval_data,\n",
    "        baseline_model=baseline_model_uri,\n",
    "        **eval_config\n",
    "    )\n",
    "    mlflow.evaluate(\n",
    "        candidate_model_uri,\n",
    "        train_data,\n",
    "        baseline_model=baseline_model_uri,\n",
    "        **train_config\n",
    "    )\n",
    "mlflow.end_run()"
   ],
   "metadata": {
    "collapsed": false,
    "ExecuteTime": {
     "end_time": "2024-03-29T14:52:07.094306Z",
     "start_time": "2024-03-29T14:52:03.374352Z"
    }
   },
   "execution_count": 52
  },
  {
   "cell_type": "code",
   "execution_count": 53,
   "metadata": {
    "ExecuteTime": {
     "end_time": "2024-03-29T14:52:07.123700Z",
     "start_time": "2024-03-29T14:52:07.095159Z"
    }
   },
   "outputs": [],
   "source": [
    "reg_y_preds_3 = reg_model_3.predict(x_test2)"
   ]
  },
  {
   "cell_type": "code",
   "execution_count": 54,
   "metadata": {
    "ExecuteTime": {
     "end_time": "2024-03-29T14:52:07.161911Z",
     "start_time": "2024-03-29T14:52:07.129291Z"
    }
   },
   "outputs": [
    {
     "data": {
      "text/plain": "array([[18300,    45],\n       [ 4099,    64]])"
     },
     "execution_count": 54,
     "metadata": {},
     "output_type": "execute_result"
    }
   ],
   "source": [
    "confusion_matrix(y_test2, reg_y_preds_3)"
   ]
  },
  {
   "cell_type": "code",
   "execution_count": 55,
   "metadata": {
    "ExecuteTime": {
     "end_time": "2024-03-29T14:52:07.248637Z",
     "start_time": "2024-03-29T14:52:07.192143Z"
    }
   },
   "outputs": [
    {
     "data": {
      "text/plain": "                      0            1  accuracy     macro avg  weighted avg\nprecision      0.817001     0.587156  0.815888      0.702078      0.774489\nrecall         0.997547     0.015374  0.815888      0.506460      0.815888\nf1-score       0.898292     0.029963  0.815888      0.464127      0.737689\nsupport    18345.000000  4163.000000  0.815888  22508.000000  22508.000000",
      "text/html": "<div>\n<style scoped>\n    .dataframe tbody tr th:only-of-type {\n        vertical-align: middle;\n    }\n\n    .dataframe tbody tr th {\n        vertical-align: top;\n    }\n\n    .dataframe thead th {\n        text-align: right;\n    }\n</style>\n<table border=\"1\" class=\"dataframe\">\n  <thead>\n    <tr style=\"text-align: right;\">\n      <th></th>\n      <th>0</th>\n      <th>1</th>\n      <th>accuracy</th>\n      <th>macro avg</th>\n      <th>weighted avg</th>\n    </tr>\n  </thead>\n  <tbody>\n    <tr>\n      <th>precision</th>\n      <td>0.817001</td>\n      <td>0.587156</td>\n      <td>0.815888</td>\n      <td>0.702078</td>\n      <td>0.774489</td>\n    </tr>\n    <tr>\n      <th>recall</th>\n      <td>0.997547</td>\n      <td>0.015374</td>\n      <td>0.815888</td>\n      <td>0.506460</td>\n      <td>0.815888</td>\n    </tr>\n    <tr>\n      <th>f1-score</th>\n      <td>0.898292</td>\n      <td>0.029963</td>\n      <td>0.815888</td>\n      <td>0.464127</td>\n      <td>0.737689</td>\n    </tr>\n    <tr>\n      <th>support</th>\n      <td>18345.000000</td>\n      <td>4163.000000</td>\n      <td>0.815888</td>\n      <td>22508.000000</td>\n      <td>22508.000000</td>\n    </tr>\n  </tbody>\n</table>\n</div>"
     },
     "execution_count": 55,
     "metadata": {},
     "output_type": "execute_result"
    }
   ],
   "source": [
    "pd.DataFrame(classification_report(y_test2, reg_y_preds_3, output_dict=True))"
   ]
  },
  {
   "attachments": {},
   "cell_type": "markdown",
   "metadata": {},
   "source": [
    "## 7. Data Science Conclusions"
   ]
  },
  {
   "attachments": {},
   "cell_type": "markdown",
   "metadata": {},
   "source": [
    "By looking at the results of the 6 trained models, it can be determined:\n",
    "- There is no noticeable difference in results between XGBoost and LogisticRegression.\n",
    "- Does not decrease the performance of the model by reducing the features to the 10 most important.\n",
    "- Improves the model's performance when balancing classes, since it increases the recall of class \"1\"."
   ]
  },
  {
   "attachments": {},
   "cell_type": "markdown",
   "metadata": {},
   "source": [
    "**With this, the model to be productive must be the one that is trained with the top 10 features and class balancing, but which one?**"
   ]
  }
 ],
 "metadata": {
  "kernelspec": {
   "display_name": "mle-challenge",
   "language": "python",
   "name": "python3"
  },
  "language_info": {
   "codemirror_mode": {
    "name": "ipython",
    "version": 3
   },
   "file_extension": ".py",
   "mimetype": "text/x-python",
   "name": "python",
   "nbconvert_exporter": "python",
   "pygments_lexer": "ipython3",
   "version": "3.9.16"
  },
  "orig_nbformat": 4
 },
 "nbformat": 4,
 "nbformat_minor": 2
}
