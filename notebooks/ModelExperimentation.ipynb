{
 "cells": [
  {
   "cell_type": "code",
   "execution_count": null,
   "metadata": {},
   "outputs": [],
   "source": [
    "import mlflow\n",
    "import pandas as pd\n",
    "import matplotlib.pyplot as plt\n",
    "import json\n",
    "import warnings\n",
    "from sklearn.model_selection import train_test_split\n",
    "from sklearn.utils import shuffle\n",
    "from sklearn.metrics import confusion_matrix, classification_report\n",
    "from mlflow.models import infer_signature\n",
    "from sklearn.dummy import DummyClassifier\n",
    "import xgboost as xgb\n",
    "from xgboost import plot_importance\n",
    "from sklearn.linear_model import LogisticRegression\n",
    "from challenge.constants import MLFLOW_EXPERIMENT_NAME, MLFLOW_TRACKING_URI, RANDOM_STATE\n",
    "from challenge.pipeline.etl import etl_pipeline, calculate_target, get_min_diff\n",
    "\n",
    "warnings.filterwarnings('ignore')"
   ]
  },
  {
   "cell_type": "code",
   "outputs": [],
   "source": [
    "mlflow.set_tracking_uri(MLFLOW_TRACKING_URI)"
   ],
   "metadata": {
    "collapsed": false
   },
   "execution_count": null
  },
  {
   "cell_type": "code",
   "outputs": [],
   "source": [
    "try:\n",
    "    mlflow.set_experiment(MLFLOW_EXPERIMENT_NAME)\n",
    "except Exception as e:\n",
    "    print(e)\n",
    "    mlflow.create_experiment(MLFLOW_EXPERIMENT_NAME)"
   ],
   "metadata": {
    "collapsed": false
   },
   "execution_count": null
  },
  {
   "attachments": {},
   "cell_type": "markdown",
   "metadata": {},
   "source": [
    "## 0. Load Data"
   ]
  },
  {
   "cell_type": "code",
   "execution_count": null,
   "metadata": {},
   "outputs": [],
   "source": [
    "data = pd.read_csv('../data/raw/data.csv')\n",
    "data.info()"
   ]
  },
  {
   "cell_type": "markdown",
   "source": [
    "## 4. Training"
   ],
   "metadata": {
    "collapsed": false
   }
  },
  {
   "attachments": {},
   "cell_type": "markdown",
   "metadata": {},
   "source": [
    "### 4.a. Data Split (Training and Validation)"
   ]
  },
  {
   "cell_type": "code",
   "outputs": [],
   "source": [
    "data['min_diff'] = data.apply(get_min_diff, axis=1)\n",
    "data['delay'] = calculate_target(data, 'delay')"
   ],
   "metadata": {
    "collapsed": false
   },
   "execution_count": null
  },
  {
   "cell_type": "code",
   "outputs": [],
   "source": [
    "data.head()"
   ],
   "metadata": {
    "collapsed": false
   },
   "execution_count": null
  },
  {
   "cell_type": "code",
   "outputs": [],
   "source": [
    "cols_features = ['OPERA', 'MES', 'TIPOVUELO', 'SIGLADES', 'DIANOM', 'delay']"
   ],
   "metadata": {
    "collapsed": false
   },
   "execution_count": null
  },
  {
   "cell_type": "code",
   "outputs": [],
   "source": [
    "training_data = shuffle(data[cols_features], random_state = RANDOM_STATE)"
   ],
   "metadata": {
    "collapsed": false
   },
   "execution_count": null
  },
  {
   "cell_type": "code",
   "outputs": [],
   "source": [
    "unique_vals_per_feature = {}\n",
    "\n",
    "for col in cols_features:\n",
    "    unique_vals_per_feature[col] = list(data[col].unique())\n",
    "\n",
    "unique_vals_per_feature[\"MES\"] = [int(v) for v in unique_vals_per_feature[\"MES\"]]\n",
    "unique_vals_per_feature[\"delay\"] = [int(v) for v in unique_vals_per_feature[\"delay\"]] \n",
    "\n",
    "with open(\"../data/interim/unique_features.json\", 'w') as f:\n",
    "    json.dump(unique_vals_per_feature, f)"
   ],
   "metadata": {
    "collapsed": false
   },
   "execution_count": null
  },
  {
   "cell_type": "code",
   "execution_count": null,
   "metadata": {},
   "outputs": [],
   "source": [
    "features, target = etl_pipeline(data, 'delay')"
   ]
  },
  {
   "cell_type": "code",
   "outputs": [],
   "source": [
    "features.head()"
   ],
   "metadata": {
    "collapsed": false
   },
   "execution_count": null
  },
  {
   "cell_type": "code",
   "outputs": [],
   "source": [
    "target.head()"
   ],
   "metadata": {
    "collapsed": false
   },
   "execution_count": null
  },
  {
   "cell_type": "code",
   "execution_count": null,
   "metadata": {},
   "outputs": [],
   "source": [
    "x_train, x_test, y_train, y_test = train_test_split(\n",
    "    features,\n",
    "    target, \n",
    "    test_size = 0.33,\n",
    "    random_state = RANDOM_STATE,\n",
    "    stratify = target\n",
    ")"
   ]
  },
  {
   "cell_type": "code",
   "execution_count": null,
   "metadata": {},
   "outputs": [],
   "source": [
    "print(f\"train shape: {x_train.shape} | test shape: {x_test.shape}\")"
   ]
  },
  {
   "cell_type": "code",
   "execution_count": null,
   "metadata": {},
   "outputs": [],
   "source": [
    "y_train['delay'].value_counts('%')*100"
   ]
  },
  {
   "cell_type": "code",
   "execution_count": null,
   "metadata": {},
   "outputs": [],
   "source": [
    "y_test['delay'].value_counts('%')*100"
   ]
  },
  {
   "cell_type": "code",
   "outputs": [],
   "source": [
    "with open(\"../data/interim/feature_columns.json\", 'w') as f:\n",
    "    json.dump({\"feature_columns\": list(x_train.columns)}, f)"
   ],
   "metadata": {
    "collapsed": false
   },
   "execution_count": null
  },
  {
   "attachments": {},
   "cell_type": "markdown",
   "metadata": {},
   "source": [
    "### 4.b. Model Selection"
   ]
  },
  {
   "cell_type": "code",
   "outputs": [],
   "source": [
    "signature = infer_signature(x_test, y_test)"
   ],
   "metadata": {
    "collapsed": false
   },
   "execution_count": null
  },
  {
   "cell_type": "code",
   "outputs": [],
   "source": [
    "eval_data = x_test.copy()\n",
    "eval_data[\"label\"] = y_test.copy()\n",
    "eval_data.head()"
   ],
   "metadata": {
    "collapsed": false
   },
   "execution_count": null
  },
  {
   "cell_type": "code",
   "outputs": [],
   "source": [
    "train_data = x_train.copy()\n",
    "train_data[\"label\"] = y_train.copy()\n",
    "train_data.head()"
   ],
   "metadata": {
    "collapsed": false
   },
   "execution_count": null
  },
  {
   "cell_type": "code",
   "outputs": [],
   "source": [
    "eval_config = {\n",
    "    \"targets\": \"label\",\n",
    "    \"model_type\":\"classifier\",\n",
    "    \"evaluator_config\": {\n",
    "        'explainability_algorithm': 'permutation',\n",
    "        'metric_prefix': 'evaluation_'\n",
    "    }\n",
    "}"
   ],
   "metadata": {
    "collapsed": false
   },
   "execution_count": null
  },
  {
   "cell_type": "code",
   "outputs": [],
   "source": [
    "train_config = {\n",
    "    \"targets\": \"label\",\n",
    "    \"model_type\":\"classifier\",\n",
    "    \"evaluator_config\": {\n",
    "        'explainability_algorithm': 'permutation',\n",
    "        'metric_prefix': 'training_'\n",
    "    }\n",
    "}"
   ],
   "metadata": {
    "collapsed": false
   },
   "execution_count": null
  },
  {
   "cell_type": "markdown",
   "source": [
    "#### 4.b.0 Baseline Model"
   ],
   "metadata": {
    "collapsed": false
   }
  },
  {
   "cell_type": "code",
   "outputs": [],
   "source": [
    "desc = \"Baseline Model\"\n",
    "run_name = \"Baseline Model\"\n",
    "with mlflow.start_run(description=desc, run_name=run_name) as _:\n",
    "    baseline_model = DummyClassifier(strategy=\"uniform\", random_state=RANDOM_STATE).fit(x_train, y_train)\n",
    "    \n",
    "    baseline_model_uri = mlflow.sklearn.log_model(\n",
    "        baseline_model, \"model\", signature=signature\n",
    "    ).model_uri\n",
    "\n",
    "mlflow.end_run()"
   ],
   "metadata": {
    "collapsed": false
   },
   "execution_count": null
  },
  {
   "attachments": {},
   "cell_type": "markdown",
   "metadata": {},
   "source": [
    "#### 4.b.i. XGBoost"
   ]
  },
  {
   "cell_type": "code",
   "execution_count": null,
   "metadata": {},
   "outputs": [],
   "source": [
    "desc = \"XGBoost\"\n",
    "with mlflow.start_run(description=desc) as _:\n",
    "    xgb_model = xgb.XGBClassifier(random_state=RANDOM_STATE, learning_rate=0.01)\n",
    "    xgb_model.fit(x_train, y_train)\n",
    "    \n",
    "    candidate_model_uri = mlflow.sklearn.log_model(\n",
    "        xgb_model, \"candidate_model\", signature=signature\n",
    "    ).model_uri\n",
    "    \n",
    "    mlflow.evaluate(\n",
    "        candidate_model_uri,\n",
    "        eval_data,\n",
    "        baseline_model=baseline_model_uri,\n",
    "        **eval_config\n",
    "    )\n",
    "    mlflow.evaluate(\n",
    "        candidate_model_uri,\n",
    "        train_data,\n",
    "        baseline_model=baseline_model_uri,\n",
    "        **train_config\n",
    "    )\n",
    "mlflow.end_run()"
   ]
  },
  {
   "cell_type": "code",
   "execution_count": null,
   "metadata": {},
   "outputs": [],
   "source": [
    "xgboost_y_preds = xgb_model.predict(x_test)\n",
    "xgboost_y_preds = [1 if y_pred > 0.5 else 0 for y_pred in xgboost_y_preds]"
   ]
  },
  {
   "cell_type": "code",
   "execution_count": null,
   "metadata": {},
   "outputs": [],
   "source": [
    "confusion_matrix(y_test, xgboost_y_preds)"
   ]
  },
  {
   "cell_type": "code",
   "execution_count": null,
   "metadata": {},
   "outputs": [],
   "source": [
    "pd.DataFrame(classification_report(y_test, xgboost_y_preds, output_dict=True))"
   ]
  },
  {
   "cell_type": "markdown",
   "metadata": {},
   "source": [
    "#### 4.b.ii. Logistic Regression"
   ]
  },
  {
   "cell_type": "code",
   "outputs": [],
   "source": [
    "desc = \"Logistic Regression\"\n",
    "with mlflow.start_run(description=desc) as _:\n",
    "    reg_model = LogisticRegression(random_state=RANDOM_STATE, n_jobs=-1)\n",
    "    reg_model.fit(x_train, y_train)\n",
    "    candidate_model_uri = mlflow.sklearn.log_model(\n",
    "        reg_model, \"candidate_model\", signature=signature\n",
    "    ).model_uri\n",
    "    \n",
    "    mlflow.evaluate(\n",
    "        candidate_model_uri,\n",
    "        eval_data,\n",
    "        baseline_model=baseline_model_uri,\n",
    "        **eval_config\n",
    "    )\n",
    "    mlflow.evaluate(\n",
    "        candidate_model_uri,\n",
    "        train_data,\n",
    "        baseline_model=baseline_model_uri,\n",
    "        **train_config\n",
    "    )\n",
    "mlflow.end_run()"
   ],
   "metadata": {
    "collapsed": false
   },
   "execution_count": null
  },
  {
   "cell_type": "code",
   "execution_count": null,
   "metadata": {},
   "outputs": [],
   "source": [
    "reg_y_preds = reg_model.predict(x_test)"
   ]
  },
  {
   "cell_type": "code",
   "execution_count": null,
   "metadata": {},
   "outputs": [],
   "source": [
    "confusion_matrix(y_test, reg_y_preds)"
   ]
  },
  {
   "cell_type": "code",
   "execution_count": null,
   "metadata": {},
   "outputs": [],
   "source": [
    "pd.DataFrame(classification_report(y_test, reg_y_preds, output_dict=True))"
   ]
  },
  {
   "attachments": {},
   "cell_type": "markdown",
   "metadata": {},
   "source": [
    "## 5. Data Analysis: Third Sight"
   ]
  },
  {
   "attachments": {},
   "cell_type": "markdown",
   "metadata": {},
   "source": [
    "### Feature Importance"
   ]
  },
  {
   "cell_type": "code",
   "execution_count": null,
   "metadata": {},
   "outputs": [],
   "source": [
    "plt.figure(figsize = (10,5))\n",
    "plot_importance(xgb_model)\n",
    "plt.show()"
   ]
  },
  {
   "cell_type": "code",
   "execution_count": null,
   "metadata": {},
   "outputs": [],
   "source": [
    "top_10_features = [\n",
    "    \"OPERA_Latin American Wings\", \n",
    "    \"MES_7\",\n",
    "    \"MES_10\",\n",
    "    \"OPERA_Grupo LATAM\",\n",
    "    \"MES_12\",\n",
    "    \"TIPOVUELO_I\",\n",
    "    \"MES_4\",\n",
    "    \"MES_11\",\n",
    "    \"OPERA_Sky Airline\",\n",
    "    \"OPERA_Copa Air\"\n",
    "]"
   ]
  },
  {
   "attachments": {},
   "cell_type": "markdown",
   "metadata": {},
   "source": [
    "### Data Balance"
   ]
  },
  {
   "cell_type": "code",
   "execution_count": null,
   "metadata": {},
   "outputs": [],
   "source": [
    "n_y0 = len(y_train[y_train == 0])\n",
    "n_y1 = len(y_train[y_train == 1])\n",
    "scale = n_y0/n_y1\n",
    "print(scale)"
   ]
  },
  {
   "attachments": {},
   "cell_type": "markdown",
   "metadata": {},
   "source": [
    "## 6. Training with Improvement"
   ]
  },
  {
   "attachments": {},
   "cell_type": "markdown",
   "metadata": {},
   "source": [
    "### 6.a. Data Split"
   ]
  },
  {
   "cell_type": "code",
   "execution_count": null,
   "metadata": {},
   "outputs": [],
   "source": [
    "x_train2, x_test2, y_train2, y_test2 = train_test_split(\n",
    "    features[top_10_features], \n",
    "    target, \n",
    "    test_size = 0.33, \n",
    "    random_state = RANDOM_STATE,\n",
    "    stratify = target\n",
    ")"
   ]
  },
  {
   "attachments": {},
   "cell_type": "markdown",
   "metadata": {},
   "source": [
    "### 6.b. Model Selection"
   ]
  },
  {
   "cell_type": "code",
   "outputs": [],
   "source": [
    "signature = infer_signature(x_test2, y_test2)"
   ],
   "metadata": {
    "collapsed": false
   },
   "execution_count": null
  },
  {
   "cell_type": "code",
   "outputs": [],
   "source": [
    "eval_data = x_test2.copy()\n",
    "eval_data[\"label\"] = y_test2.copy()\n",
    "eval_data.head()"
   ],
   "metadata": {
    "collapsed": false
   },
   "execution_count": null
  },
  {
   "cell_type": "code",
   "outputs": [],
   "source": [
    "train_data = x_train2.copy()\n",
    "train_data[\"label\"] = y_train2.copy()\n",
    "train_data.head()"
   ],
   "metadata": {
    "collapsed": false
   },
   "execution_count": null
  },
  {
   "cell_type": "markdown",
   "source": [
    "### 6.b.0 Baseline Model"
   ],
   "metadata": {
    "collapsed": false
   }
  },
  {
   "cell_type": "code",
   "outputs": [],
   "source": [
    "desc = \"Baseline Model Top 10 features\"\n",
    "run_name = \"Baseline Model Top 10 features\"\n",
    "with mlflow.start_run(description=desc, run_name=run_name) as _:\n",
    "    baseline_model = DummyClassifier(strategy=\"uniform\", random_state=RANDOM_STATE).fit(x_train2, y_train2)\n",
    "    \n",
    "    baseline_model_uri = mlflow.sklearn.log_model(\n",
    "        baseline_model, \"model\", signature=signature\n",
    "    ).model_uri\n",
    "\n",
    "mlflow.end_run()"
   ],
   "metadata": {
    "collapsed": false
   },
   "execution_count": null
  },
  {
   "attachments": {},
   "cell_type": "markdown",
   "metadata": {},
   "source": [
    "#### 6.b.i. XGBoost with Feature Importance and with Balance"
   ]
  },
  {
   "cell_type": "code",
   "outputs": [],
   "source": [
    "desc = \"XGBoost with Feature Importance and with Balance\"\n",
    "with mlflow.start_run(description=desc) as _:\n",
    "    xgb_model_2 = xgb.XGBClassifier(random_state=RANDOM_STATE, learning_rate=0.01, scale_pos_weight = scale)\n",
    "    xgb_model_2.fit(x_train2, y_train2)\n",
    "    \n",
    "    candidate_model_uri = mlflow.sklearn.log_model(\n",
    "        xgb_model_2, \"candidate_model\", signature=signature\n",
    "    ).model_uri\n",
    "    \n",
    "    mlflow.evaluate(\n",
    "        candidate_model_uri,\n",
    "        eval_data,\n",
    "        baseline_model=baseline_model_uri,\n",
    "        **eval_config\n",
    "    )\n",
    "    mlflow.evaluate(\n",
    "        candidate_model_uri,\n",
    "        train_data,\n",
    "        baseline_model=baseline_model_uri,\n",
    "        **train_config\n",
    "    )\n",
    "mlflow.end_run()"
   ],
   "metadata": {
    "collapsed": false
   },
   "execution_count": null
  },
  {
   "cell_type": "code",
   "execution_count": null,
   "metadata": {},
   "outputs": [],
   "source": [
    "xgboost_y_preds_2 = xgb_model_2.predict(x_test2)"
   ]
  },
  {
   "cell_type": "code",
   "execution_count": null,
   "metadata": {},
   "outputs": [],
   "source": [
    "confusion_matrix(y_test2, xgboost_y_preds_2)"
   ]
  },
  {
   "cell_type": "code",
   "execution_count": null,
   "metadata": {},
   "outputs": [],
   "source": [
    "pd.DataFrame(classification_report(y_test2, xgboost_y_preds_2, output_dict=True))"
   ]
  },
  {
   "attachments": {},
   "cell_type": "markdown",
   "metadata": {},
   "source": [
    "#### 6.b.ii. XGBoost with Feature Importance but without Balance"
   ]
  },
  {
   "cell_type": "code",
   "outputs": [],
   "source": [
    "desc = \"XGBoost with Feature Importance but without Balance\"\n",
    "with mlflow.start_run(description=desc) as _:\n",
    "    xgb_model_3 = xgb.XGBClassifier(random_state=RANDOM_STATE, learning_rate=0.01)\n",
    "    xgb_model_3.fit(x_train2, y_train2)\n",
    "    \n",
    "    candidate_model_uri = mlflow.sklearn.log_model(\n",
    "        xgb_model_3, \"candidate_model\", signature=signature\n",
    "    ).model_uri\n",
    "    \n",
    "    mlflow.evaluate(\n",
    "        candidate_model_uri,\n",
    "        eval_data,\n",
    "        baseline_model=baseline_model_uri,\n",
    "        **eval_config\n",
    "    )\n",
    "    mlflow.evaluate(\n",
    "        candidate_model_uri,\n",
    "        train_data,\n",
    "        baseline_model=baseline_model_uri,\n",
    "        **train_config\n",
    "    )\n",
    "mlflow.end_run()"
   ],
   "metadata": {
    "collapsed": false
   },
   "execution_count": null
  },
  {
   "cell_type": "code",
   "execution_count": null,
   "metadata": {},
   "outputs": [],
   "source": [
    "xgboost_y_preds_3 = xgb_model_3.predict(x_test2)"
   ]
  },
  {
   "cell_type": "code",
   "execution_count": null,
   "metadata": {},
   "outputs": [],
   "source": [
    "confusion_matrix(y_test2, xgboost_y_preds_3)"
   ]
  },
  {
   "cell_type": "code",
   "execution_count": null,
   "metadata": {},
   "outputs": [],
   "source": [
    "pd.DataFrame(classification_report(y_test2, xgboost_y_preds_3, output_dict=True))"
   ]
  },
  {
   "attachments": {},
   "cell_type": "markdown",
   "metadata": {},
   "source": [
    "#### 6.b.iii. Logistic Regression with Feature Importante and with Balance"
   ]
  },
  {
   "cell_type": "code",
   "outputs": [],
   "source": [
    "desc = \"Logistic Regression with Feature Importante and with Balance\"\n",
    "with mlflow.start_run(description=desc) as _:\n",
    "    reg_model_2 = LogisticRegression(\n",
    "        class_weight={1: n_y0/len(y_train), 0: n_y1/len(y_train)},\n",
    "        random_state=RANDOM_STATE,\n",
    "        n_jobs=-1\n",
    "    )\n",
    "    reg_model_2.fit(x_train2, y_train2)\n",
    "    \n",
    "    candidate_model_uri = mlflow.sklearn.log_model(\n",
    "        reg_model_2, \"candidate_model\", signature=signature\n",
    "    ).model_uri\n",
    "    \n",
    "    mlflow.evaluate(\n",
    "        candidate_model_uri,\n",
    "        eval_data,\n",
    "        baseline_model=baseline_model_uri,\n",
    "        **eval_config\n",
    "    )\n",
    "    mlflow.evaluate(\n",
    "        candidate_model_uri,\n",
    "        train_data,\n",
    "        baseline_model=baseline_model_uri,\n",
    "        **train_config\n",
    "    )\n",
    "mlflow.end_run()"
   ],
   "metadata": {
    "collapsed": false
   },
   "execution_count": null
  },
  {
   "cell_type": "code",
   "execution_count": null,
   "metadata": {},
   "outputs": [],
   "source": [
    "reg_y_preds_2 = reg_model_2.predict(x_test2)"
   ]
  },
  {
   "cell_type": "code",
   "execution_count": null,
   "metadata": {},
   "outputs": [],
   "source": [
    "confusion_matrix(y_test2, reg_y_preds_2)"
   ]
  },
  {
   "cell_type": "code",
   "execution_count": null,
   "metadata": {},
   "outputs": [],
   "source": [
    "pd.DataFrame(classification_report(y_test2, reg_y_preds_2, output_dict=True))"
   ]
  },
  {
   "attachments": {},
   "cell_type": "markdown",
   "metadata": {},
   "source": [
    "#### 6.b.iv. Logistic Regression with Feature Importante but without Balance"
   ]
  },
  {
   "cell_type": "code",
   "outputs": [],
   "source": [
    "desc = \"Logistic Regression with Feature Importante but without Balance\"\n",
    "with mlflow.start_run(description=desc) as _:\n",
    "    reg_model_3 = LogisticRegression(random_state=RANDOM_STATE, n_jobs=-1)\n",
    "    reg_model_3.fit(x_train2, y_train2)\n",
    "\n",
    "    candidate_model_uri = mlflow.sklearn.log_model(\n",
    "        reg_model_3, \"candidate_model\", signature=signature\n",
    "    ).model_uri\n",
    "    \n",
    "    mlflow.evaluate(\n",
    "        candidate_model_uri,\n",
    "        eval_data,\n",
    "        baseline_model=baseline_model_uri,\n",
    "        **eval_config\n",
    "    )\n",
    "    mlflow.evaluate(\n",
    "        candidate_model_uri,\n",
    "        train_data,\n",
    "        baseline_model=baseline_model_uri,\n",
    "        **train_config\n",
    "    )\n",
    "mlflow.end_run()"
   ],
   "metadata": {
    "collapsed": false
   },
   "execution_count": null
  },
  {
   "cell_type": "code",
   "execution_count": null,
   "metadata": {},
   "outputs": [],
   "source": [
    "reg_y_preds_3 = reg_model_3.predict(x_test2)"
   ]
  },
  {
   "cell_type": "code",
   "execution_count": null,
   "metadata": {},
   "outputs": [],
   "source": [
    "confusion_matrix(y_test2, reg_y_preds_3)"
   ]
  },
  {
   "cell_type": "code",
   "execution_count": null,
   "metadata": {},
   "outputs": [],
   "source": [
    "pd.DataFrame(classification_report(y_test2, reg_y_preds_3, output_dict=True))"
   ]
  },
  {
   "attachments": {},
   "cell_type": "markdown",
   "metadata": {},
   "source": [
    "## 7. Data Science Conclusions"
   ]
  },
  {
   "attachments": {},
   "cell_type": "markdown",
   "metadata": {},
   "source": [
    "By looking at the results of the 6 trained models, it can be determined:\n",
    "- There is no noticeable difference in results between XGBoost and LogisticRegression.\n",
    "- Does not decrease the performance of the model by reducing the features to the 10 most important.\n",
    "- Improves the model's performance when balancing classes, since it increases the recall of class \"1\"."
   ]
  },
  {
   "attachments": {},
   "cell_type": "markdown",
   "metadata": {},
   "source": [
    "**With this, the model to be productive must be the one that is trained with the top 10 features and class balancing, but which one?**"
   ]
  }
 ],
 "metadata": {
  "kernelspec": {
   "display_name": "mle-challenge",
   "language": "python",
   "name": "python3"
  },
  "language_info": {
   "codemirror_mode": {
    "name": "ipython",
    "version": 3
   },
   "file_extension": ".py",
   "mimetype": "text/x-python",
   "name": "python",
   "nbconvert_exporter": "python",
   "pygments_lexer": "ipython3",
   "version": "3.9.16"
  },
  "orig_nbformat": 4
 },
 "nbformat": 4,
 "nbformat_minor": 2
}
